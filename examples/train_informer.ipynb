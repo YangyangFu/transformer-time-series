{
  "cells": [
    {
      "cell_type": "markdown",
      "metadata": {
        "colab_type": "text",
        "id": "view-in-github"
      },
      "source": [
        "<a href=\"https://colab.research.google.com/github/YangyangFu/transformer-time-series/blob/main/examples/train_informer.ipynb\" target=\"_parent\"><img src=\"https://colab.research.google.com/assets/colab-badge.svg\" alt=\"Open In Colab\"/></a>"
      ]
    },
    {
      "cell_type": "code",
      "execution_count": 1,
      "metadata": {
        "id": "fZ9eJFiasTCH"
      },
      "outputs": [],
      "source": [
        "import tensorflow as tf\n",
        "import os\n",
        "import random\n",
        "import numpy as np"
      ]
    },
    {
      "cell_type": "markdown",
      "metadata": {
        "id": "j3JIPN-7sDXf"
      },
      "source": [
        "# GPU/TPOU setup\n"
      ]
    },
    {
      "cell_type": "code",
      "execution_count": 2,
      "metadata": {
        "id": "2q1RbOTQsBbW"
      },
      "outputs": [],
      "source": [
        "runtime = \"GPU\"\n",
        "if runtime == \"TPU\":\n",
        "  resolver = tf.distribute.cluster_resolver.TPUClusterResolver(tpu='')\n",
        "  tf.config.experimental_connect_to_cluster(resolver)\n",
        "  # This is the TPU initialization code that has to be at the beginning.\n",
        "  tf.tpu.experimental.initialize_tpu_system(resolver)\n",
        "  print(\"All devices: \", tf.config.list_logical_devices('TPU'))\n",
        "else:\n",
        "  pass"
      ]
    },
    {
      "cell_type": "markdown",
      "metadata": {
        "id": "HTe6v0SginWr"
      },
      "source": [
        "\n",
        "# Install Dependency"
      ]
    },
    {
      "cell_type": "code",
      "execution_count": 3,
      "metadata": {
        "colab": {
          "base_uri": "https://localhost:8080/"
        },
        "id": "vrjw4j0ei44T",
        "outputId": "fa2d1d1c-5a49-411f-def7-c1ea34ddb388"
      },
      "outputs": [
        {
          "name": "stdout",
          "output_type": "stream",
          "text": [
            "Collecting git+https://github.com/YangyangFu/transformer-time-series@main\n",
            "  Cloning https://github.com/YangyangFu/transformer-time-series (to revision main) to /tmp/pip-req-build-aai9vrwg\n",
            "  Running command git clone --filter=blob:none --quiet https://github.com/YangyangFu/transformer-time-series /tmp/pip-req-build-aai9vrwg\n",
            "  Resolved https://github.com/YangyangFu/transformer-time-series to commit ba1a9ffc0f4d36db3a28340bbf6a8d8c930191f7\n",
            "  Preparing metadata (setup.py) ... \u001b[?25l\u001b[?25hdone\n",
            "Building wheels for collected packages: tsl\n",
            "  Building wheel for tsl (setup.py) ... \u001b[?25l\u001b[?25hdone\n",
            "  Created wheel for tsl: filename=tsl-1.0-py3-none-any.whl size=41953 sha256=f7d1547ab5a9739bd814abee25b4dbb1fc7a3ce4926bd6547ded521af4b7a870\n",
            "  Stored in directory: /tmp/pip-ephem-wheel-cache-rkt01pdg/wheels/1e/96/45/2b21250d4fcf59625a099e8fb90e3b43278918abd7b7747e49\n",
            "Successfully built tsl\n",
            "Installing collected packages: tsl\n",
            "Successfully installed tsl-1.0\n"
          ]
        }
      ],
      "source": [
        "!pip install git+https://github.com/YangyangFu/transformer-time-series@main"
      ]
    },
    {
      "cell_type": "code",
      "execution_count": 4,
      "metadata": {
        "colab": {
          "base_uri": "https://localhost:8080/"
        },
        "id": "4MRmSqUJifmz",
        "outputId": "c2122673-8428-47c1-cb44-73f48fe27e9d"
      },
      "outputs": [
        {
          "name": "stdout",
          "output_type": "stream",
          "text": [
            "Random seed set as 42\n"
          ]
        }
      ],
      "source": [
        "from tsl.dataloader.batch_on_time import DataLoader\n",
        "from tsl.transformers.informer import Informer\n",
        "from tsl.utils.utils import seed_everything\n",
        "\n",
        "seed_everything(42)\n"
      ]
    },
    {
      "cell_type": "markdown",
      "metadata": {
        "id": "BmAXwqCrjZkr"
      },
      "source": [
        "# Download Data"
      ]
    },
    {
      "cell_type": "code",
      "execution_count": 5,
      "metadata": {
        "colab": {
          "base_uri": "https://localhost:8080/"
        },
        "id": "ZMDNKDr4jfe0",
        "outputId": "6591fb1f-3a25-4397-b2ff-02eb55a07337"
      },
      "outputs": [
        {
          "name": "stdout",
          "output_type": "stream",
          "text": [
            "Reading package lists... Done\n",
            "Building dependency tree... Done\n",
            "Reading state information... Done\n",
            "The following additional packages will be installed:\n",
            "  libapr1 libaprutil1 libserf-1-1 libsvn1 libutf8proc2\n",
            "Suggested packages:\n",
            "  db5.3-util libapache2-mod-svn subversion-tools\n",
            "The following NEW packages will be installed:\n",
            "  libapr1 libaprutil1 libserf-1-1 libsvn1 libutf8proc2 subversion\n",
            "0 upgraded, 6 newly installed, 0 to remove and 16 not upgraded.\n",
            "Need to get 2,672 kB of archives.\n",
            "After this operation, 10.5 MB of additional disk space will be used.\n",
            "Get:1 http://archive.ubuntu.com/ubuntu jammy-updates/main amd64 libapr1 amd64 1.7.0-8ubuntu0.22.04.1 [108 kB]\n",
            "Get:2 http://archive.ubuntu.com/ubuntu jammy-updates/main amd64 libaprutil1 amd64 1.6.1-5ubuntu4.22.04.1 [92.6 kB]\n",
            "Get:3 http://archive.ubuntu.com/ubuntu jammy/universe amd64 libserf-1-1 amd64 1.3.9-10ubuntu2 [50.0 kB]\n",
            "Get:4 http://archive.ubuntu.com/ubuntu jammy/universe amd64 libutf8proc2 amd64 2.7.0-3 [73.9 kB]\n",
            "Get:5 http://archive.ubuntu.com/ubuntu jammy-updates/universe amd64 libsvn1 amd64 1.14.1-3ubuntu0.22.04.1 [1,387 kB]\n",
            "Get:6 http://archive.ubuntu.com/ubuntu jammy-updates/universe amd64 subversion amd64 1.14.1-3ubuntu0.22.04.1 [960 kB]\n",
            "Fetched 2,672 kB in 3s (973 kB/s)\n",
            "Selecting previously unselected package libapr1:amd64.\n",
            "(Reading database ... 120831 files and directories currently installed.)\n",
            "Preparing to unpack .../0-libapr1_1.7.0-8ubuntu0.22.04.1_amd64.deb ...\n",
            "Unpacking libapr1:amd64 (1.7.0-8ubuntu0.22.04.1) ...\n",
            "Selecting previously unselected package libaprutil1:amd64.\n",
            "Preparing to unpack .../1-libaprutil1_1.6.1-5ubuntu4.22.04.1_amd64.deb ...\n",
            "Unpacking libaprutil1:amd64 (1.6.1-5ubuntu4.22.04.1) ...\n",
            "Selecting previously unselected package libserf-1-1:amd64.\n",
            "Preparing to unpack .../2-libserf-1-1_1.3.9-10ubuntu2_amd64.deb ...\n",
            "Unpacking libserf-1-1:amd64 (1.3.9-10ubuntu2) ...\n",
            "Selecting previously unselected package libutf8proc2:amd64.\n",
            "Preparing to unpack .../3-libutf8proc2_2.7.0-3_amd64.deb ...\n",
            "Unpacking libutf8proc2:amd64 (2.7.0-3) ...\n",
            "Selecting previously unselected package libsvn1:amd64.\n",
            "Preparing to unpack .../4-libsvn1_1.14.1-3ubuntu0.22.04.1_amd64.deb ...\n",
            "Unpacking libsvn1:amd64 (1.14.1-3ubuntu0.22.04.1) ...\n",
            "Selecting previously unselected package subversion.\n",
            "Preparing to unpack .../5-subversion_1.14.1-3ubuntu0.22.04.1_amd64.deb ...\n",
            "Unpacking subversion (1.14.1-3ubuntu0.22.04.1) ...\n",
            "Setting up libutf8proc2:amd64 (2.7.0-3) ...\n",
            "Setting up libapr1:amd64 (1.7.0-8ubuntu0.22.04.1) ...\n",
            "Setting up libaprutil1:amd64 (1.6.1-5ubuntu4.22.04.1) ...\n",
            "Setting up libserf-1-1:amd64 (1.3.9-10ubuntu2) ...\n",
            "Setting up libsvn1:amd64 (1.14.1-3ubuntu0.22.04.1) ...\n",
            "Setting up subversion (1.14.1-3ubuntu0.22.04.1) ...\n",
            "Processing triggers for libc-bin (2.35-0ubuntu3.1) ...\n",
            "/sbin/ldconfig.real: /usr/local/lib/libtbbbind_2_0.so.3 is not a symbolic link\n",
            "\n",
            "/sbin/ldconfig.real: /usr/local/lib/libtbbbind_2_5.so.3 is not a symbolic link\n",
            "\n",
            "/sbin/ldconfig.real: /usr/local/lib/libtbb.so.12 is not a symbolic link\n",
            "\n",
            "/sbin/ldconfig.real: /usr/local/lib/libtbbbind.so.3 is not a symbolic link\n",
            "\n",
            "/sbin/ldconfig.real: /usr/local/lib/libtbbmalloc.so.2 is not a symbolic link\n",
            "\n",
            "/sbin/ldconfig.real: /usr/local/lib/libtbbmalloc_proxy.so.2 is not a symbolic link\n",
            "\n",
            "Processing triggers for man-db (2.10.2-1) ...\n",
            "A    datasets/download_data.sh\n",
            "A    datasets/electricity_price\n",
            "A    datasets/electricity_price/model_ready.parquet\n",
            "A    datasets/electricity_price/pre-process.ipynb\n",
            "Checked out revision 58.\n",
            "Downloading...\n",
            "From: https://drive.google.com/uc?id=1alE33S1GmP5wACMXaLu50rDIoVzBM4ik\n",
            "To: /content/all_six_datasets.zip\n",
            "100% 54.0M/54.0M [00:00<00:00, 97.3MB/s]\n",
            "Archive:  all_six_datasets.zip\n",
            "   creating: all_six_datasets/\n",
            "   creating: all_six_datasets/traffic/\n",
            "  inflating: __MACOSX/all_six_datasets/._traffic  \n",
            "  inflating: all_six_datasets/.DS_Store  \n",
            "  inflating: __MACOSX/all_six_datasets/._.DS_Store  \n",
            "   creating: all_six_datasets/illness/\n",
            "  inflating: __MACOSX/all_six_datasets/._illness  \n",
            "   creating: all_six_datasets/ETT-small/\n",
            "  inflating: __MACOSX/all_six_datasets/._ETT-small  \n",
            "   creating: all_six_datasets/weather/\n",
            "  inflating: __MACOSX/all_six_datasets/._weather  \n",
            "   creating: all_six_datasets/exchange_rate/\n",
            "  inflating: __MACOSX/all_six_datasets/._exchange_rate  \n",
            "   creating: all_six_datasets/electricity/\n",
            "  inflating: __MACOSX/all_six_datasets/._electricity  \n",
            "  inflating: all_six_datasets/traffic/.DS_Store  \n",
            "  inflating: __MACOSX/all_six_datasets/traffic/._.DS_Store  \n",
            "  inflating: all_six_datasets/traffic/traffic.csv  \n",
            "  inflating: all_six_datasets/illness/national_illness.csv  \n",
            "  inflating: all_six_datasets/ETT-small/ETTh1.csv  \n",
            "  inflating: all_six_datasets/ETT-small/ETTh2.csv  \n",
            "  inflating: all_six_datasets/ETT-small/ETTm1.csv  \n",
            "  inflating: all_six_datasets/ETT-small/ETTm2.csv  \n",
            "  inflating: all_six_datasets/weather/weather.csv  \n",
            "  inflating: all_six_datasets/exchange_rate/.DS_Store  \n",
            "  inflating: __MACOSX/all_six_datasets/exchange_rate/._.DS_Store  \n",
            "  inflating: all_six_datasets/exchange_rate/exchange_rate.csv  \n",
            "  inflating: __MACOSX/all_six_datasets/exchange_rate/._exchange_rate.csv  \n",
            "  inflating: all_six_datasets/electricity/.DS_Store  \n",
            "  inflating: __MACOSX/all_six_datasets/electricity/._.DS_Store  \n",
            "  inflating: all_six_datasets/electricity/electricity.csv  \n",
            "  inflating: __MACOSX/all_six_datasets/electricity/._electricity.csv  \n"
          ]
        }
      ],
      "source": [
        "!apt install subversion\n",
        "!svn checkout https://github.com/YangyangFu/transformer-time-series/trunk/datasets-raw\n",
        "!bash ./datasets-raw/download_data.sh"
      ]
    },
    {
      "cell_type": "markdown",
      "metadata": {
        "id": "npDBhCRxlSeY"
      },
      "source": [
        "# Experiment Settings\n"
      ]
    },
    {
      "cell_type": "code",
      "execution_count": 29,
      "metadata": {
        "id": "B4zwHHznlXc2"
      },
      "outputs": [],
      "source": [
        "embed_dim = 512\n",
        "source_seq_len = 360\n",
        "pred_len = 24\n",
        "target_seq_len = 168 + pred_len\n",
        "target_cols=['HUFL','HULL','MUFL','MULL','LUFL','LULL','OT']\n",
        "num_cov_cols=['HUFL','HULL','MUFL','MULL','LUFL','LULL','OT']\n",
        "n_num_covs = len(num_cov_cols)\n",
        "n_targets = len(target_cols)\n",
        "\n",
        "MAX_EPOCHS = 10"
      ]
    },
    {
      "cell_type": "markdown",
      "metadata": {
        "id": "5lTovJ3jlNbf"
      },
      "source": [
        "# Create Data Loader"
      ]
    },
    {
      "cell_type": "code",
      "execution_count": 32,
      "metadata": {
        "colab": {
          "base_uri": "https://localhost:8080/"
        },
        "id": "mn0Fjpxfifm0",
        "outputId": "1ae751c3-b317-4d05-9115-6dba29714c77"
      },
      "outputs": [
        {
          "name": "stdout",
          "output_type": "stream",
          "text": [
            "Generating time features.................\n"
          ]
        },
        {
          "name": "stderr",
          "output_type": "stream",
          "text": [
            "100%|██████████| 17420/17420 [04:15<00:00, 68.23it/s]\n"
          ]
        }
      ],
      "source": [
        "# get data path\n",
        "data_path = \"./ETT-small/ETTh1\"\n",
        "\n",
        "ts_file = 'ts.joblib'\n",
        "\n",
        "# create dataloader\n",
        "dataloader = DataLoader(\n",
        "        data_path,\n",
        "        ts_file,\n",
        "        num_cov_global_file=None,\n",
        "        cat_cov_global_file=None,\n",
        "        num_cov_local_variant_file=[],\n",
        "        cat_cov_local_variant_file=[],\n",
        "        num_cov_local_invariant_file=[],\n",
        "        cat_cov_local_invariant_file=[],\n",
        "        num_cov_local_variant_names=[],\n",
        "        cat_cov_local_variant_names=[],\n",
        "        target_cols=target_cols,\n",
        "        train_range=(0, 24*30*12),\n",
        "        val_range=(24*30*12, 24*30*16),\n",
        "        test_range=(24*30*16, 24*30*20),\n",
        "        hist_len=source_seq_len,\n",
        "        token_len=target_seq_len-pred_len,\n",
        "        pred_len=pred_len,\n",
        "        batch_size=32,\n",
        "        freq='H',\n",
        "        normalize=True,\n",
        "        use_time_features=True,\n",
        "        use_holiday=True,\n",
        "        use_holiday_distance=False,\n",
        "        normalize_time_features=False,\n",
        "        use_history_for_covariates=False\n",
        ")\n",
        "\n",
        "train_ds = dataloader.generate_dataset(mode=\"train\", shuffle=True, seed=1)\n",
        "val_ds = dataloader.generate_dataset(mode=\"validation\", shuffle=False, seed=1)\n",
        "test_ds = dataloader.generate_dataset(mode=\"test\", shuffle=False, seed=1)\n"
      ]
    },
    {
      "cell_type": "code",
      "execution_count": 33,
      "metadata": {
        "id": "74gx7yuuifm1"
      },
      "outputs": [],
      "source": [
        "# create informer model\n",
        "model = Informer(output_dim=n_targets,\n",
        "                pred_len=pred_len,\n",
        "                num_layers_encoder=2,\n",
        "                num_heads_encoder=8,\n",
        "                key_dim_encoder=64,\n",
        "                value_dim_encoder=64,\n",
        "                output_dim_encoder=512,\n",
        "                hidden_dim_encoder=2048,\n",
        "                factor_encoder=5,\n",
        "                num_layers_decoder=1,\n",
        "                num_heads_decoder=8,\n",
        "                key_dim_decoder=64,\n",
        "                value_dim_decoder=64,\n",
        "                output_dim_decoder=512,\n",
        "                hidden_dim_decoder=2048,\n",
        "                factor_decoder=5,\n",
        "                num_cat_cov=0,\n",
        "                cat_cov_embedding_size=[],\n",
        "                cat_cov_embedding_dim=16,\n",
        "                freq='H',\n",
        "                use_holiday=True,\n",
        "                dropout_rate=0.2,)\n",
        "\n",
        "# training settings\n",
        "loss_fn = tf.keras.losses.MeanSquaredError()\n",
        "optimizer = tf.keras.optimizers.Adam(learning_rate=1e-3)\n",
        "\n",
        "train_metrics = [tf.keras.metrics.MeanAbsoluteError()]\n",
        "val_metrics = [tf.keras.metrics.MeanAbsoluteError()]\n",
        "\n",
        "# train step\n",
        "@tf.function\n",
        "def train_step(x, y):\n",
        "    with tf.GradientTape() as tape:\n",
        "        x_enc, x_dec = x\n",
        "        y_pred = model(x_enc, x_dec, training=True)\n",
        "        loss = loss_fn(y, y_pred)\n",
        "\n",
        "    grads = tape.gradient(loss, model.trainable_variables)\n",
        "    optimizer.apply_gradients(zip(grads, model.trainable_variables))\n",
        "    # update metrics\n",
        "    for metric in train_metrics:\n",
        "            metric.update_state(y, y_pred)\n",
        "    return loss\n",
        "\n",
        "# validation step\n",
        "@tf.function\n",
        "def val_step(x, y):\n",
        "    x_enc, x_dec = x\n",
        "    y_pred = model(x_enc, x_dec, training=False)\n",
        "    loss = loss_fn(y, y_pred)\n",
        "    for metric in val_metrics:\n",
        "        metric.update_state(y, y_pred)\n",
        "    return loss"
      ]
    },
    {
      "cell_type": "code",
      "execution_count": null,
      "metadata": {
        "colab": {
          "base_uri": "https://localhost:8080/"
        },
        "id": "YpVAWphVifm1",
        "outputId": "899ad5df-6e2e-4659-ffd3-fdcca60700ad"
      },
      "outputs": [
        {
          "name": "stdout",
          "output_type": "stream",
          "text": [
            "Epoch 1/50 training loss: 0.4252, MAE: 0.9885\n",
            "Epoch 1/50 validation loss: 8.1311, MAE: 2.2756\n",
            "Epoch 2/50 training loss: 0.3818, MAE: 0.4422\n",
            "Epoch 2/50 validation loss: 0.0345, MAE: 0.5210\n",
            "Epoch 3/50 training loss: 0.3992, MAE: 0.4024\n",
            "Epoch 3/50 validation loss: 0.0736, MAE: 0.7503\n",
            "Epoch 4/50 training loss: 0.3198, MAE: 0.3772\n",
            "Epoch 4/50 validation loss: 1.5730, MAE: 1.6392\n",
            "Epoch 5/50 training loss: 0.3401, MAE: 0.3641\n",
            "Epoch 5/50 validation loss: 0.4194, MAE: 1.4245\n"
          ]
        }
      ],
      "source": [
        "# main loop\n",
        "for epoch in range(MAX_EPOCHS):\n",
        "    # take a batch\n",
        "    for batch in train_ds:\n",
        "        enc, dec = batch\n",
        "        (ts_enc, num_global_enc, cat_global_enc, \n",
        "         num_local_variant_enc, cat_local_variant_enc, \n",
        "         num_local_invariant_enc, cat_local_invariant_enc, time_features_enc) = enc\n",
        "        (ts_dec, num_global_dec, cat_global_dec, \n",
        "         num_local_variant_dec, cat_local_variant_dec, \n",
        "         num_local_invariant_dec, cat_local_invariant_dec, time_features_dec) = dec\n",
        "                \n",
        "        #try: \n",
        "        # zero for target \n",
        "        token_dec = ts_dec[:, :-pred_len, :]\n",
        "        zeros = tf.zeros_like(ts_dec[:, -pred_len:, :])\n",
        "        token_target_dec = tf.concat([token_dec, zeros], axis=1)\n",
        "        \n",
        "        # feed model\n",
        "        x_enc = (ts_enc, None, time_features_enc)\n",
        "        x_dec = (time_features_dec, token_target_dec)\n",
        "        \n",
        "        # train step\n",
        "        loss = train_step((x_enc, x_dec), ts_dec[:, -pred_len:, :])\n",
        "\n",
        "    # print loss every epoch\n",
        "    print(f\"Epoch {epoch+1}/{MAX_EPOCHS} training loss: {loss:.4f}, MAE: {train_metrics[0].result():.4f}\")\n",
        "\n",
        "    # reset train metrics\n",
        "    for metric in train_metrics:\n",
        "        metric.reset_states()\n",
        "\n",
        "    # run validation loop\n",
        "    # how to run validaiton loop without batching?\n",
        "    for val_batch in val_ds:\n",
        "        enc, dec = val_batch\n",
        "        (ts_enc, num_global_enc, cat_global_enc, \n",
        "         num_local_variant_enc, cat_local_variant_enc, \n",
        "         num_local_invariant_enc, cat_local_invariant_enc, time_features_enc) = enc\n",
        "        (ts_dec, num_global_dec, cat_global_dec, \n",
        "         num_local_variant_dec, cat_local_variant_dec, \n",
        "         num_local_invariant_dec, cat_local_invariant_dec, time_features_dec) = dec\n",
        "        \n",
        "\n",
        "        # zero for target \n",
        "        token_dec = ts_dec[:, :-pred_len, :]\n",
        "        zeros = tf.zeros_like(ts_dec[:, -pred_len:, :])\n",
        "        token_target_dec = tf.concat([token_dec, zeros], axis=1)\n",
        "        \n",
        "        # feed model\n",
        "        x_enc = (ts_enc, None, time_features_enc)\n",
        "        x_dec = (time_features_dec, token_target_dec)\n",
        "        \n",
        "        # calculate loss\n",
        "        loss_val = val_step((x_enc, x_dec), ts_dec[:, -pred_len:, :])\n",
        "\n",
        "    # print loss every epoch\n",
        "    print(f\"Epoch {epoch+1}/{MAX_EPOCHS} validation loss: {loss_val:.4f}, MAE: {val_metrics[0].result():.4f}\")\n",
        "\n",
        "    # reset val metrics\n",
        "    for metric in val_metrics:\n",
        "        metric.reset_states()"
      ]
    },
    {
      "cell_type": "markdown",
      "metadata": {
        "id": "CeqEnQ9VGGYX"
      },
      "source": [
        "# Test"
      ]
    },
    {
      "cell_type": "code",
      "execution_count": 14,
      "metadata": {
        "id": "GHCZM5CaGBNf"
      },
      "outputs": [],
      "source": [
        "test_metrics = [tf.keras.metrics.MeanSquaredError(), tf.keras.metrics.MeanAbsoluteError()]\n",
        "\n",
        "# test step\n",
        "@tf.function\n",
        "def test_step(x, y):\n",
        "    x_enc, x_dec = x\n",
        "    y_pred = model(x_enc, x_dec, training=False)\n",
        "    loss = loss_fn(y, y_pred)\n",
        "    for metric in test_metrics:\n",
        "        metric.update_state(y, y_pred)\n",
        "    return loss\n"
      ]
    },
    {
      "cell_type": "code",
      "execution_count": 17,
      "metadata": {
        "colab": {
          "base_uri": "https://localhost:8080/"
        },
        "id": "62qEUu4dG3sv",
        "outputId": "236a6a0a-09c1-4429-bc7e-5d11d4e7906f"
      },
      "outputs": [
        {
          "name": "stdout",
          "output_type": "stream",
          "text": [
            "Test loss: 0.4283, MAE: 0.5234\n"
          ]
        }
      ],
      "source": [
        "# reset metrics\n",
        "for metric in val_metrics:\n",
        "    metric.reset_states()\n",
        "\n",
        "for test_batch in test_ds:\n",
        "    enc, dec = test_batch\n",
        "    (ts_enc, num_global_enc, cat_global_enc, \n",
        "        num_local_variant_enc, cat_local_variant_enc, \n",
        "        num_local_invariant_enc, cat_local_invariant_enc, time_features_enc) = enc\n",
        "    (ts_dec, num_global_dec, cat_global_dec, \n",
        "        num_local_variant_dec, cat_local_variant_dec, \n",
        "        num_local_invariant_dec, cat_local_invariant_dec, time_features_dec) = dec\n",
        "    \n",
        "\n",
        "    # zero for target \n",
        "    token_dec = ts_dec[:, :-pred_len, :]\n",
        "    zeros = tf.zeros_like(ts_dec[:, -pred_len:, :])\n",
        "    token_target_dec = tf.concat([token_dec, zeros], axis=1)\n",
        "\n",
        "    # feed model\n",
        "    x_enc = (ts_enc, None, time_features_enc)\n",
        "    x_dec = (time_features_dec, token_target_dec)\n",
        "\n",
        "    # calculate loss\n",
        "    loss_test = test_step((x_enc, x_dec), ts_dec[:, -pred_len:, :])\n",
        "    \n",
        "# print loss every epoch\n",
        "print(f\"Test loss: {test_metrics[0].result():.4f}, MAE: {test_metrics[1].result():.4f}\")\n",
        "\n"
      ]
    }
  ],
  "metadata": {
    "accelerator": "GPU",
    "colab": {
      "gpuType": "T4",
      "include_colab_link": true,
      "provenance": [],
      "toc_visible": true
    },
    "kernelspec": {
      "display_name": "Python 3",
      "name": "python3"
    },
    "language_info": {
      "codemirror_mode": {
        "name": "ipython",
        "version": 3
      },
      "file_extension": ".py",
      "mimetype": "text/x-python",
      "name": "python",
      "nbconvert_exporter": "python",
      "pygments_lexer": "ipython3",
      "version": "3.9.0"
    },
    "orig_nbformat": 4
  },
  "nbformat": 4,
  "nbformat_minor": 0
}

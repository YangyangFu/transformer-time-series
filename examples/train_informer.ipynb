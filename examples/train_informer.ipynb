{
  "cells": [
    {
      "cell_type": "markdown",
      "metadata": {
        "id": "view-in-github",
        "colab_type": "text"
      },
      "source": [
        "<a href=\"https://colab.research.google.com/github/YangyangFu/transformer-time-series/blob/main/examples/train_informer.ipynb\" target=\"_parent\"><img src=\"https://colab.research.google.com/assets/colab-badge.svg\" alt=\"Open In Colab\"/></a>"
      ]
    },
    {
      "cell_type": "markdown",
      "source": [
        "\n",
        "# Install Dependency"
      ],
      "metadata": {
        "id": "HTe6v0SginWr"
      }
    },
    {
      "cell_type": "code",
      "source": [
        "!pip install git+https://github.com/YangyangFu/transformer-time-series@main"
      ],
      "metadata": {
        "colab": {
          "base_uri": "https://localhost:8080/"
        },
        "id": "vrjw4j0ei44T",
        "outputId": "dab59616-efa9-4b4e-9c98-b30561d0b089"
      },
      "execution_count": 1,
      "outputs": [
        {
          "output_type": "stream",
          "name": "stdout",
          "text": [
            "Collecting git+https://github.com/YangyangFu/transformer-time-series@main\n",
            "  Cloning https://github.com/YangyangFu/transformer-time-series (to revision main) to /tmp/pip-req-build-1kjt68wh\n",
            "  Running command git clone --filter=blob:none --quiet https://github.com/YangyangFu/transformer-time-series /tmp/pip-req-build-1kjt68wh\n",
            "  Resolved https://github.com/YangyangFu/transformer-time-series to commit 94dff8ea3113b4dcb7081867dc655d43351f57d9\n",
            "  Preparing metadata (setup.py) ... \u001b[?25l\u001b[?25hdone\n",
            "Building wheels for collected packages: tsl\n",
            "  Building wheel for tsl (setup.py) ... \u001b[?25l\u001b[?25hdone\n",
            "  Created wheel for tsl: filename=tsl-1.0-py3-none-any.whl size=41953 sha256=e2578e9b860917d8c1faf40022b8e89c4207e70bebd612adebc0b0d63a7629f2\n",
            "  Stored in directory: /tmp/pip-ephem-wheel-cache-8j0oma6o/wheels/1e/96/45/2b21250d4fcf59625a099e8fb90e3b43278918abd7b7747e49\n",
            "Successfully built tsl\n",
            "Installing collected packages: tsl\n",
            "Successfully installed tsl-1.0\n"
          ]
        }
      ]
    },
    {
      "cell_type": "code",
      "execution_count": 2,
      "metadata": {
        "id": "4MRmSqUJifmz",
        "outputId": "3b910cdc-e3d7-4aa2-c51d-a6140a33585e",
        "colab": {
          "base_uri": "https://localhost:8080/"
        }
      },
      "outputs": [
        {
          "output_type": "stream",
          "name": "stdout",
          "text": [
            "Random seed set as 42\n"
          ]
        }
      ],
      "source": [
        "import tensorflow as tf\n",
        "import os\n",
        "import random\n",
        "import numpy as np\n",
        "\n",
        "from tsl.transformers.informer import DataLoader\n",
        "from tsl.transformers.informer import Informer\n",
        "\n",
        "\n",
        "def set_seed(seed: int = 42) -> None:\n",
        "    random.seed(seed)\n",
        "    np.random.seed(seed)\n",
        "    tf.random.set_seed(seed)\n",
        "    tf.experimental.numpy.random.seed(seed)\n",
        "    tf.random.set_seed(seed)\n",
        "    # When running on the CuDNN backend, two further options must be set\n",
        "    os.environ['TF_CUDNN_DETERMINISTIC'] = '1'\n",
        "    os.environ['TF_DETERMINISTIC_OPS'] = '1'\n",
        "    # Set a fixed value for the hash seed\n",
        "    os.environ[\"PYTHONHASHSEED\"] = str(seed)\n",
        "    print(f\"Random seed set as {seed}\")\n",
        "\n",
        "set_seed(42)\n"
      ]
    },
    {
      "cell_type": "markdown",
      "source": [
        "# Download Data"
      ],
      "metadata": {
        "id": "BmAXwqCrjZkr"
      }
    },
    {
      "cell_type": "code",
      "source": [
        "!apt install subversion\n",
        "!svn checkout https://github.com/YangyangFu/transformer-time-series/trunk/datasets\n",
        "!bash ./datasets/download_data.sh"
      ],
      "metadata": {
        "colab": {
          "base_uri": "https://localhost:8080/"
        },
        "id": "ZMDNKDr4jfe0",
        "outputId": "1980f8ca-bd87-4dd7-9aa7-334239ba7f6a"
      },
      "execution_count": 3,
      "outputs": [
        {
          "output_type": "stream",
          "name": "stdout",
          "text": [
            "Reading package lists... Done\n",
            "Building dependency tree... Done\n",
            "Reading state information... Done\n",
            "The following additional packages will be installed:\n",
            "  libapr1 libaprutil1 libserf-1-1 libsvn1 libutf8proc2\n",
            "Suggested packages:\n",
            "  db5.3-util libapache2-mod-svn subversion-tools\n",
            "The following NEW packages will be installed:\n",
            "  libapr1 libaprutil1 libserf-1-1 libsvn1 libutf8proc2 subversion\n",
            "0 upgraded, 6 newly installed, 0 to remove and 16 not upgraded.\n",
            "Need to get 2,672 kB of archives.\n",
            "After this operation, 10.5 MB of additional disk space will be used.\n",
            "Get:1 http://archive.ubuntu.com/ubuntu jammy-updates/main amd64 libapr1 amd64 1.7.0-8ubuntu0.22.04.1 [108 kB]\n",
            "Get:2 http://archive.ubuntu.com/ubuntu jammy-updates/main amd64 libaprutil1 amd64 1.6.1-5ubuntu4.22.04.1 [92.6 kB]\n",
            "Get:3 http://archive.ubuntu.com/ubuntu jammy/universe amd64 libserf-1-1 amd64 1.3.9-10ubuntu2 [50.0 kB]\n",
            "Get:4 http://archive.ubuntu.com/ubuntu jammy/universe amd64 libutf8proc2 amd64 2.7.0-3 [73.9 kB]\n",
            "Get:5 http://archive.ubuntu.com/ubuntu jammy-updates/universe amd64 libsvn1 amd64 1.14.1-3ubuntu0.22.04.1 [1,387 kB]\n",
            "Get:6 http://archive.ubuntu.com/ubuntu jammy-updates/universe amd64 subversion amd64 1.14.1-3ubuntu0.22.04.1 [960 kB]\n",
            "Fetched 2,672 kB in 1s (4,622 kB/s)\n",
            "Selecting previously unselected package libapr1:amd64.\n",
            "(Reading database ... 120831 files and directories currently installed.)\n",
            "Preparing to unpack .../0-libapr1_1.7.0-8ubuntu0.22.04.1_amd64.deb ...\n",
            "Unpacking libapr1:amd64 (1.7.0-8ubuntu0.22.04.1) ...\n",
            "Selecting previously unselected package libaprutil1:amd64.\n",
            "Preparing to unpack .../1-libaprutil1_1.6.1-5ubuntu4.22.04.1_amd64.deb ...\n",
            "Unpacking libaprutil1:amd64 (1.6.1-5ubuntu4.22.04.1) ...\n",
            "Selecting previously unselected package libserf-1-1:amd64.\n",
            "Preparing to unpack .../2-libserf-1-1_1.3.9-10ubuntu2_amd64.deb ...\n",
            "Unpacking libserf-1-1:amd64 (1.3.9-10ubuntu2) ...\n",
            "Selecting previously unselected package libutf8proc2:amd64.\n",
            "Preparing to unpack .../3-libutf8proc2_2.7.0-3_amd64.deb ...\n",
            "Unpacking libutf8proc2:amd64 (2.7.0-3) ...\n",
            "Selecting previously unselected package libsvn1:amd64.\n",
            "Preparing to unpack .../4-libsvn1_1.14.1-3ubuntu0.22.04.1_amd64.deb ...\n",
            "Unpacking libsvn1:amd64 (1.14.1-3ubuntu0.22.04.1) ...\n",
            "Selecting previously unselected package subversion.\n",
            "Preparing to unpack .../5-subversion_1.14.1-3ubuntu0.22.04.1_amd64.deb ...\n",
            "Unpacking subversion (1.14.1-3ubuntu0.22.04.1) ...\n",
            "Setting up libutf8proc2:amd64 (2.7.0-3) ...\n",
            "Setting up libapr1:amd64 (1.7.0-8ubuntu0.22.04.1) ...\n",
            "Setting up libaprutil1:amd64 (1.6.1-5ubuntu4.22.04.1) ...\n",
            "Setting up libserf-1-1:amd64 (1.3.9-10ubuntu2) ...\n",
            "Setting up libsvn1:amd64 (1.14.1-3ubuntu0.22.04.1) ...\n",
            "Setting up subversion (1.14.1-3ubuntu0.22.04.1) ...\n",
            "Processing triggers for libc-bin (2.35-0ubuntu3.1) ...\n",
            "/sbin/ldconfig.real: /usr/local/lib/libtbbmalloc_proxy.so.2 is not a symbolic link\n",
            "\n",
            "/sbin/ldconfig.real: /usr/local/lib/libtbbbind.so.3 is not a symbolic link\n",
            "\n",
            "/sbin/ldconfig.real: /usr/local/lib/libtbbbind_2_0.so.3 is not a symbolic link\n",
            "\n",
            "/sbin/ldconfig.real: /usr/local/lib/libtbb.so.12 is not a symbolic link\n",
            "\n",
            "/sbin/ldconfig.real: /usr/local/lib/libtbbbind_2_5.so.3 is not a symbolic link\n",
            "\n",
            "/sbin/ldconfig.real: /usr/local/lib/libtbbmalloc.so.2 is not a symbolic link\n",
            "\n",
            "Processing triggers for man-db (2.10.2-1) ...\n",
            "A    datasets/download_data.sh\n",
            "A    datasets/electricity_price\n",
            "A    datasets/electricity_price/model_ready.parquet\n",
            "A    datasets/electricity_price/pre-process.ipynb\n",
            "Checked out revision 56.\n",
            "Downloading...\n",
            "From: https://drive.google.com/uc?id=1alE33S1GmP5wACMXaLu50rDIoVzBM4ik\n",
            "To: /content/all_six_datasets.zip\n",
            "100% 54.0M/54.0M [00:01<00:00, 32.5MB/s]\n",
            "Archive:  all_six_datasets.zip\n",
            "   creating: all_six_datasets/\n",
            "   creating: all_six_datasets/traffic/\n",
            "  inflating: __MACOSX/all_six_datasets/._traffic  \n",
            "  inflating: all_six_datasets/.DS_Store  \n",
            "  inflating: __MACOSX/all_six_datasets/._.DS_Store  \n",
            "   creating: all_six_datasets/illness/\n",
            "  inflating: __MACOSX/all_six_datasets/._illness  \n",
            "   creating: all_six_datasets/ETT-small/\n",
            "  inflating: __MACOSX/all_six_datasets/._ETT-small  \n",
            "   creating: all_six_datasets/weather/\n",
            "  inflating: __MACOSX/all_six_datasets/._weather  \n",
            "   creating: all_six_datasets/exchange_rate/\n",
            "  inflating: __MACOSX/all_six_datasets/._exchange_rate  \n",
            "   creating: all_six_datasets/electricity/\n",
            "  inflating: __MACOSX/all_six_datasets/._electricity  \n",
            "  inflating: all_six_datasets/traffic/.DS_Store  \n",
            "  inflating: __MACOSX/all_six_datasets/traffic/._.DS_Store  \n",
            "  inflating: all_six_datasets/traffic/traffic.csv  \n",
            "  inflating: all_six_datasets/illness/national_illness.csv  \n",
            "  inflating: all_six_datasets/ETT-small/ETTh1.csv  \n",
            "  inflating: all_six_datasets/ETT-small/ETTh2.csv  \n",
            "  inflating: all_six_datasets/ETT-small/ETTm1.csv  \n",
            "  inflating: all_six_datasets/ETT-small/ETTm2.csv  \n",
            "  inflating: all_six_datasets/weather/weather.csv  \n",
            "  inflating: all_six_datasets/exchange_rate/.DS_Store  \n",
            "  inflating: __MACOSX/all_six_datasets/exchange_rate/._.DS_Store  \n",
            "  inflating: all_six_datasets/exchange_rate/exchange_rate.csv  \n",
            "  inflating: __MACOSX/all_six_datasets/exchange_rate/._exchange_rate.csv  \n",
            "  inflating: all_six_datasets/electricity/.DS_Store  \n",
            "  inflating: __MACOSX/all_six_datasets/electricity/._.DS_Store  \n",
            "  inflating: all_six_datasets/electricity/electricity.csv  \n",
            "  inflating: __MACOSX/all_six_datasets/electricity/._electricity.csv  \n"
          ]
        }
      ]
    },
    {
      "cell_type": "markdown",
      "source": [
        "# Experiment Settings\n"
      ],
      "metadata": {
        "id": "npDBhCRxlSeY"
      }
    },
    {
      "cell_type": "code",
      "source": [
        "embed_dim = 512\n",
        "source_seq_len = 64\n",
        "target_seq_len = 128\n",
        "pred_len = 96\n",
        "n_num_covs = 7\n",
        "n_targets = 1\n",
        "\n",
        "MAX_EPOCHS = 10"
      ],
      "metadata": {
        "id": "B4zwHHznlXc2"
      },
      "execution_count": 4,
      "outputs": []
    },
    {
      "cell_type": "markdown",
      "source": [
        "# Create Data Loader"
      ],
      "metadata": {
        "id": "5lTovJ3jlNbf"
      }
    },
    {
      "cell_type": "code",
      "execution_count": null,
      "metadata": {
        "id": "mn0Fjpxfifm0",
        "colab": {
          "base_uri": "https://localhost:8080/"
        },
        "outputId": "316d8c12-a352-41b6-8929-0f2dd244f35d"
      },
      "outputs": [
        {
          "output_type": "stream",
          "name": "stdout",
          "text": [
            "Generating time features.................\n"
          ]
        },
        {
          "output_type": "stream",
          "name": "stderr",
          "text": [
            " 61%|██████    | 10597/17420 [03:52<02:59, 37.92it/s]"
          ]
        }
      ],
      "source": [
        "# get data path\n",
        "data_path = \"./ETT-small/ETTh1.csv\"\n",
        "\n",
        "# create dataloader\n",
        "dataloader = DataLoader(data_path=data_path,\n",
        "                    target_cols=['OT'],\n",
        "                    num_cov_cols=['HUFL','HULL','MUFL','MULL','LUFL','LULL','OT'],\n",
        "                    train_range=(0, 24*30*12),\n",
        "                    val_range=(24*30*12, 24*20*16),\n",
        "                    test_range=(24*30*16, 24*30*20),\n",
        "                    hist_len=source_seq_len,\n",
        "                    token_len=target_seq_len-pred_len,\n",
        "                    pred_len=pred_len,\n",
        "                    batch_size=32,\n",
        "                    use_time_features=True\n",
        "                    )\n",
        "train_ds = dataloader.generate_dataset(mode=\"train\", shuffle=True, seed=1)\n",
        "val_ds = dataloader.generate_dataset(mode=\"validation\", shuffle=False, seed=1)\n",
        "test_ds = dataloader.generate_dataset(mode=\"test\", shuffle=False, seed=1)\n",
        "\n"
      ]
    },
    {
      "cell_type": "code",
      "execution_count": 17,
      "metadata": {
        "id": "74gx7yuuifm1"
      },
      "outputs": [],
      "source": [
        "# create informer model\n",
        "model = Informer(output_dim=n_targets,\n",
        "                pred_len=pred_len,\n",
        "                num_layers_encoder=4,\n",
        "                num_heads_encoder=16,\n",
        "                key_dim_encoder=32,\n",
        "                value_dim_encoder=32,\n",
        "                output_dim_encoder=512,\n",
        "                hidden_dim_encoder=2048,\n",
        "                factor_encoder=4,\n",
        "                num_layers_decoder=2,\n",
        "                num_heads_decoder=8,\n",
        "                key_dim_decoder=64,\n",
        "                value_dim_decoder=64,\n",
        "                output_dim_decoder=512,\n",
        "                hidden_dim_decoder=2048,\n",
        "                factor_decoder=4,\n",
        "                num_cat_cov=0,\n",
        "                cat_cov_embedding_size=[],\n",
        "                cat_cov_embedding_dim=16,\n",
        "                freq='H',\n",
        "                use_holiday=True,\n",
        "                dropout_rate=0.1,)\n",
        "\n",
        "# training settings\n",
        "loss_fn = tf.keras.losses.MeanSquaredError()\n",
        "optimizer = tf.keras.optimizers.Adam(learning_rate=1e-3)\n",
        "\n",
        "train_metrics = [tf.keras.metrics.MeanAbsoluteError()]\n",
        "val_metrics = [tf.keras.metrics.MeanAbsoluteError()]\n",
        "\n",
        "# train step\n",
        "@tf.function\n",
        "def train_step(x, y):\n",
        "    with tf.GradientTape() as tape:\n",
        "        x_enc, x_dec = x\n",
        "        y_pred = model(x_enc, x_dec, training=True)\n",
        "        loss = loss_fn(y, y_pred)\n",
        "\n",
        "    grads = tape.gradient(loss, model.trainable_variables)\n",
        "    optimizer.apply_gradients(zip(grads, model.trainable_variables))\n",
        "    # update metrics\n",
        "    for metric in train_metrics:\n",
        "            metric.update_state(y, y_pred)\n",
        "    return loss\n",
        "\n",
        "# validation step\n",
        "@tf.function\n",
        "def val_step(x, y):\n",
        "    x_enc, x_dec = x\n",
        "    y_pred = model(x_enc, x_dec, training=False)\n",
        "    loss = loss_fn(y, y_pred)\n",
        "    for metric in val_metrics:\n",
        "        metric.update_state(y, y_pred)\n",
        "    return loss"
      ]
    },
    {
      "cell_type": "code",
      "execution_count": null,
      "metadata": {
        "id": "YpVAWphVifm1"
      },
      "outputs": [],
      "source": [
        "# main loop\n",
        "for epoch in range(MAX_EPOCHS):\n",
        "    # take a batch\n",
        "    for batch in train_ds:\n",
        "        num_covs, cat_covs, time_enc, time_dec, target_dec = batch\n",
        "\n",
        "        try:\n",
        "            # zero for target\n",
        "            token_dec = target_dec[:, :-pred_len, :]\n",
        "            zeros = tf.zeros_like(target_dec[:, -pred_len:, :])\n",
        "            token_target_dec = tf.concat([token_dec, zeros], axis=1)\n",
        "\n",
        "            # feed model\n",
        "            x_enc = (num_covs, cat_covs, time_enc)\n",
        "            x_dec = (time_dec, token_target_dec)\n",
        "\n",
        "            # train step\n",
        "            loss = train_step((x_enc, x_dec), target_dec[:, -pred_len:, :])\n",
        "\n",
        "        except tf.errors.OutOfRangeError:\n",
        "            pass\n",
        "\n",
        "    # print loss every epoch\n",
        "    print(f\"Epoch {epoch+1}/{MAX_EPOCHS} training loss: {loss:.4f}, MAE: {train_metrics[0].result():.4f}\")\n",
        "\n",
        "    # reset train metrics\n",
        "    for metric in train_metrics:\n",
        "        metric.reset_states()\n",
        "\n",
        "    # run validation loop\n",
        "    # how to run validaiton loop without batching?\n",
        "\n",
        "    for val_batch in val_ds:\n",
        "        num_covs, cat_covs, time_enc, time_dec, target_dec = val_batch\n",
        "\n",
        "        try:\n",
        "            # zero for target\n",
        "            token_dec = target_dec[:, :-pred_len, :]\n",
        "            zeros = tf.zeros_like(target_dec[:, -pred_len:, :])\n",
        "            token_target_dec = tf.concat([token_dec, zeros], axis=1)\n",
        "\n",
        "            # feed model\n",
        "            x_enc = (num_covs, cat_covs, time_enc)\n",
        "            x_dec = (time_dec, token_target_dec)\n",
        "\n",
        "            # calculate loss\n",
        "            loss_val = val_step((x_enc, x_dec), target_dec[:, -pred_len:, :])\n",
        "\n",
        "        except tf.errors.OutOfRangeError:\n",
        "            pass\n",
        "\n",
        "        # print loss every epoch\n",
        "    print(f\"Epoch {epoch+1}/{MAX_EPOCHS} validation loss: {loss_val:.4f}, MAE: {val_metrics[0].result():.4f}\")\n",
        "\n",
        "    # reset val metrics\n",
        "    for metric in val_metrics:\n",
        "        metric.reset_states()"
      ]
    }
  ],
  "metadata": {
    "kernelspec": {
      "display_name": "Python 3",
      "name": "python3"
    },
    "language_info": {
      "codemirror_mode": {
        "name": "ipython",
        "version": 3
      },
      "file_extension": ".py",
      "mimetype": "text/x-python",
      "name": "python",
      "nbconvert_exporter": "python",
      "pygments_lexer": "ipython3",
      "version": "3.9.0"
    },
    "orig_nbformat": 4,
    "colab": {
      "provenance": [],
      "toc_visible": true,
      "include_colab_link": true
    },
    "accelerator": "TPU"
  },
  "nbformat": 4,
  "nbformat_minor": 0
}

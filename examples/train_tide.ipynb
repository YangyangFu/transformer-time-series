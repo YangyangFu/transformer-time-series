{
 "cells": [
  {
   "cell_type": "markdown",
   "metadata": {},
   "source": [
    "<a href=\"https://colab.research.google.com/github/YangyangFu/transformer-time-series/blob/main/examples/train_tide.ipynb\" target=\"_parent\"><img src=\"https://colab.research.google.com/assets/colab-badge.svg\" alt=\"Open In Colab\"/></a>"
   ]
  },
  {
   "cell_type": "code",
   "execution_count": 1,
   "metadata": {},
   "outputs": [
    {
     "name": "stderr",
     "output_type": "stream",
     "text": [
      "2023-09-14 10:08:44.513267: I tensorflow/core/util/port.cc:110] oneDNN custom operations are on. You may see slightly different numerical results due to floating-point round-off errors from different computation orders. To turn them off, set the environment variable `TF_ENABLE_ONEDNN_OPTS=0`.\n",
      "2023-09-14 10:08:44.536771: I tensorflow/core/platform/cpu_feature_guard.cc:182] This TensorFlow binary is optimized to use available CPU instructions in performance-critical operations.\n",
      "To enable the following instructions: AVX2 AVX_VNNI FMA, in other operations, rebuild TensorFlow with the appropriate compiler flags.\n",
      "2023-09-14 10:08:44.864588: W tensorflow/compiler/tf2tensorrt/utils/py_utils.cc:38] TF-TRT Warning: Could not find TensorRT\n"
     ]
    }
   ],
   "source": [
    "import json\n",
    "import os\n",
    "import random\n",
    "import string\n",
    "import sys\n",
    "\n",
    "from absl import app\n",
    "from absl import flags\n",
    "from absl import logging\n",
    "import numpy as np\n",
    "import pandas as pd\n",
    "import tensorflow as tf\n",
    "from tensorflow import keras\n",
    "from tqdm import tqdm"
   ]
  },
  {
   "cell_type": "markdown",
   "metadata": {},
   "source": [
    "## Install Dependency"
   ]
  },
  {
   "cell_type": "code",
   "execution_count": 2,
   "metadata": {},
   "outputs": [
    {
     "name": "stdout",
     "output_type": "stream",
     "text": [
      "/bin/bash: /home/yyf/miniconda3/envs/tts-tf/lib/libtinfo.so.6: no version information available (required by /bin/bash)\n",
      "Collecting git+https://github.com/YangyangFu/transformer-time-series@main\n",
      "  Cloning https://github.com/YangyangFu/transformer-time-series (to revision main) to /tmp/pip-req-build-pcrx6ao2\n",
      "  Running command git clone --filter=blob:none --quiet https://github.com/YangyangFu/transformer-time-series /tmp/pip-req-build-pcrx6ao2\n",
      "  Resolved https://github.com/YangyangFu/transformer-time-series to commit 64f88f790876344f9edca3c080d51cc2835a9fe4\n",
      "  Preparing metadata (setup.py) ... \u001b[?25ldone\n",
      "\u001b[?25h"
     ]
    }
   ],
   "source": [
    "!pip install git+https://github.com/YangyangFu/transformer-time-series@main"
   ]
  },
  {
   "cell_type": "code",
   "execution_count": 3,
   "metadata": {},
   "outputs": [
    {
     "name": "stdout",
     "output_type": "stream",
     "text": [
      "Random seed set as 1024\n"
     ]
    }
   ],
   "source": [
    "from tsl.dataloader.batch_on_ts import DataLoader\n",
    "from tsl.tide import TIDE\n",
    "from tsl.utils.utils import seed_everything\n",
    "\n",
    "seed_everything(1024)\n"
   ]
  },
  {
   "cell_type": "markdown",
   "metadata": {},
   "source": [
    "## Download Dataset"
   ]
  },
  {
   "cell_type": "code",
   "execution_count": null,
   "metadata": {},
   "outputs": [],
   "source": [
    "!apt install subversion\n",
    "!svn checkout https://github.com/YangyangFu/transformer-time-series/trunk/datasets-raw\n",
    "!cd ./datasets-raw && bash download_data.sh"
   ]
  },
  {
   "cell_type": "markdown",
   "metadata": {},
   "source": [
    "Comment the following code out if not needed."
   ]
  },
  {
   "cell_type": "code",
   "execution_count": 7,
   "metadata": {},
   "outputs": [
    {
     "name": "stdout",
     "output_type": "stream",
     "text": [
      "/bin/bash: /home/yyf/miniconda3/envs/tts-tf/lib/libtinfo.so.6: no version information available (required by /bin/bash)\n",
      "/bin/bash: line 0: cd: ./datasets-raw: No such file or directory\n"
     ]
    }
   ],
   "source": [
    "!cd ./datasets-raw && python process_ETTh1.py"
   ]
  },
  {
   "cell_type": "markdown",
   "metadata": {},
   "source": [
    "## Metrics and Functions\n"
   ]
  },
  {
   "cell_type": "code",
   "execution_count": 4,
   "metadata": {},
   "outputs": [],
   "source": [
    "EPS=1E-06\n",
    "\n",
    "\n",
    "def _get_random_string(num_chars):\n",
    "  rand_str = ''.join(\n",
    "      random.choice(\n",
    "          string.ascii_uppercase + string.ascii_lowercase + string.digits\n",
    "      )\n",
    "      for _ in range(num_chars - 1)\n",
    "  )\n",
    "  return rand_str\n",
    "\n",
    "\n",
    " # metrics \n",
    "def mape(y_pred, y_true):\n",
    "  abs_diff = np.abs(y_pred - y_true).flatten()\n",
    "  abs_val = np.abs(y_true).flatten()\n",
    "  idx = np.where(abs_val > EPS)\n",
    "  mpe = np.mean(abs_diff[idx] / abs_val[idx])\n",
    "  return mpe\n",
    "\n",
    "\n",
    "def mae_loss(y_pred, y_true):\n",
    "  return np.abs(y_pred - y_true).mean()\n",
    "\n",
    "\n",
    "def wape(y_pred, y_true):\n",
    "  abs_diff = np.abs(y_pred - y_true)\n",
    "  abs_val = np.abs(y_true)\n",
    "  wpe = np.sum(abs_diff) / (np.sum(abs_val) + EPS)\n",
    "  return wpe\n",
    "\n",
    "\n",
    "def smape(y_pred, y_true):\n",
    "  abs_diff = np.abs(y_pred - y_true)\n",
    "  abs_mean = (np.abs(y_true) + np.abs(y_pred)) / 2\n",
    "  smpe = np.mean(abs_diff / (abs_mean + EPS))\n",
    "  return smpe\n",
    "\n",
    "\n",
    "def rmse(y_pred, y_true):\n",
    "  return np.sqrt(np.square(y_pred - y_true).mean())\n",
    "\n",
    "\n",
    "def nrmse(y_pred, y_true):\n",
    "  mse = np.square(y_pred - y_true)\n",
    "  return np.sqrt(mse.mean()) / np.abs(y_true).mean()\n",
    "\n",
    "\n",
    "METRICS = {\n",
    "    'mape': mape,\n",
    "    'wape': wape,\n",
    "    'smape': smape,\n",
    "    'nrmse': nrmse,\n",
    "    'rmse': rmse,\n",
    "    'mae': mae_loss,\n",
    "}\n"
   ]
  },
  {
   "cell_type": "markdown",
   "metadata": {},
   "source": [
    "## Experiment Settings"
   ]
  },
  {
   "cell_type": "code",
   "execution_count": 5,
   "metadata": {},
   "outputs": [
    {
     "name": "stderr",
     "output_type": "stream",
     "text": [
      "2023-09-14 10:09:19.498871: I tensorflow/compiler/xla/stream_executor/cuda/cuda_gpu_executor.cc:996] successful NUMA node read from SysFS had negative value (-1), but there must be at least one NUMA node, so returning NUMA node zero. See more at https://github.com/torvalds/linux/blob/v6.0/Documentation/ABI/testing/sysfs-bus-pci#L344-L355\n",
      "2023-09-14 10:09:19.939913: I tensorflow/compiler/xla/stream_executor/cuda/cuda_gpu_executor.cc:996] successful NUMA node read from SysFS had negative value (-1), but there must be at least one NUMA node, so returning NUMA node zero. See more at https://github.com/torvalds/linux/blob/v6.0/Documentation/ABI/testing/sysfs-bus-pci#L344-L355\n",
      "2023-09-14 10:09:19.940341: I tensorflow/compiler/xla/stream_executor/cuda/cuda_gpu_executor.cc:996] successful NUMA node read from SysFS had negative value (-1), but there must be at least one NUMA node, so returning NUMA node zero. See more at https://github.com/torvalds/linux/blob/v6.0/Documentation/ABI/testing/sysfs-bus-pci#L344-L355\n"
     ]
    }
   ],
   "source": [
    "\"\"\"Training TS code.\"\"\"\n",
    "gpus = tf.config.experimental.list_physical_devices('GPU')\n",
    "tf.config.experimental.set_visible_devices(gpus[0], 'GPU')\n",
    "#tf.config.experimental.set_visible_devices([], 'GPU')\n",
    "if gpus:\n",
    "    try:\n",
    "        for gpu in gpus:\n",
    "            tf.config.experimental.set_memory_growth(gpu, True)\n",
    "    except RuntimeError as e:\n",
    "        print(e)\n",
    "\n",
    "experiment_id = _get_random_string(8)\n",
    "logging.info('Experiment id: %s', experiment_id)\n",
    "\n"
   ]
  },
  {
   "cell_type": "markdown",
   "metadata": {},
   "source": [
    "## Create Dataloader"
   ]
  },
  {
   "cell_type": "code",
   "execution_count": 9,
   "metadata": {},
   "outputs": [
    {
     "name": "stdout",
     "output_type": "stream",
     "text": [
      "                         HUFL      HULL      MUFL      MULL      LUFL  \\\n",
      "date                                                                    \n",
      "2016-07-01 00:00:00  5.828125  2.009766  1.598633  0.461914  4.203125   \n",
      "2016-07-01 01:00:00  5.691406  2.076172  1.492188  0.426025  4.140625   \n",
      "2016-07-01 02:00:00  5.156250  1.741211  1.279297  0.354980  3.777344   \n",
      "2016-07-01 03:00:00  5.089844  1.942383  1.279297  0.391113  3.806641   \n",
      "2016-07-01 04:00:00  5.359375  1.942383  1.492188  0.461914  3.867188   \n",
      "\n",
      "                         LULL         OT  \n",
      "date                                      \n",
      "2016-07-01 00:00:00  1.339844  30.531250  \n",
      "2016-07-01 01:00:00  1.371094  27.781250  \n",
      "2016-07-01 02:00:00  1.217773  27.781250  \n",
      "2016-07-01 03:00:00  1.279297  25.046875  \n",
      "2016-07-01 04:00:00  1.279297  21.953125  \n",
      "Generating time features.................\n",
      "       HUFL      HULL      MUFL      MULL      LUFL      LULL        OT\n",
      "0 -0.362793 -0.005398 -0.630859 -0.147461  1.388672  0.874512  1.459961\n",
      "1 -0.386475  0.026367 -0.649902 -0.166138  1.327148  0.924316  1.160156\n",
      "2 -0.478516 -0.133911 -0.688477 -0.203003  0.972656  0.681152  1.160156\n",
      "3 -0.489990 -0.037628 -0.688477 -0.184326  1.000977  0.778809  0.862793\n",
      "4 -0.443604 -0.037628 -0.649902 -0.147461  1.059570  0.778809  0.525879\n"
     ]
    },
    {
     "name": "stderr",
     "output_type": "stream",
     "text": [
      "2023-09-14 10:11:25.644521: I tensorflow/compiler/xla/stream_executor/cuda/cuda_gpu_executor.cc:996] successful NUMA node read from SysFS had negative value (-1), but there must be at least one NUMA node, so returning NUMA node zero. See more at https://github.com/torvalds/linux/blob/v6.0/Documentation/ABI/testing/sysfs-bus-pci#L344-L355\n",
      "2023-09-14 10:11:25.644646: I tensorflow/compiler/xla/stream_executor/cuda/cuda_gpu_executor.cc:996] successful NUMA node read from SysFS had negative value (-1), but there must be at least one NUMA node, so returning NUMA node zero. See more at https://github.com/torvalds/linux/blob/v6.0/Documentation/ABI/testing/sysfs-bus-pci#L344-L355\n",
      "2023-09-14 10:11:25.644695: I tensorflow/compiler/xla/stream_executor/cuda/cuda_gpu_executor.cc:996] successful NUMA node read from SysFS had negative value (-1), but there must be at least one NUMA node, so returning NUMA node zero. See more at https://github.com/torvalds/linux/blob/v6.0/Documentation/ABI/testing/sysfs-bus-pci#L344-L355\n",
      "2023-09-14 10:11:25.972336: I tensorflow/compiler/xla/stream_executor/cuda/cuda_gpu_executor.cc:996] successful NUMA node read from SysFS had negative value (-1), but there must be at least one NUMA node, so returning NUMA node zero. See more at https://github.com/torvalds/linux/blob/v6.0/Documentation/ABI/testing/sysfs-bus-pci#L344-L355\n",
      "2023-09-14 10:11:25.972445: I tensorflow/compiler/xla/stream_executor/cuda/cuda_gpu_executor.cc:996] successful NUMA node read from SysFS had negative value (-1), but there must be at least one NUMA node, so returning NUMA node zero. See more at https://github.com/torvalds/linux/blob/v6.0/Documentation/ABI/testing/sysfs-bus-pci#L344-L355\n",
      "2023-09-14 10:11:25.972495: I tensorflow/compiler/xla/stream_executor/cuda/cuda_gpu_executor.cc:996] successful NUMA node read from SysFS had negative value (-1), but there must be at least one NUMA node, so returning NUMA node zero. See more at https://github.com/torvalds/linux/blob/v6.0/Documentation/ABI/testing/sysfs-bus-pci#L344-L355\n",
      "2023-09-14 10:11:25.972541: I tensorflow/core/common_runtime/gpu/gpu_device.cc:1635] Created device /job:localhost/replica:0/task:0/device:GPU:0 with 21517 MB memory:  -> device: 0, name: NVIDIA GeForce RTX 3090, pci bus id: 0000:01:00.0, compute capability: 8.6\n"
     ]
    }
   ],
   "source": [
    "# model settings\n",
    "source_seq_len = 720\n",
    "pred_len = 96\n",
    "target_seq_len = pred_len\n",
    "target_cols=['HUFL','HULL','MUFL','MULL','LUFL','LULL','OT']\n",
    "\n",
    "# get data path\n",
    "data_path = \"./datasets/ETT-small/ETTh1\"\n",
    "\n",
    "ts_file = \"ts.joblib\"\n",
    "cat_cov_local_invariant_file='id.joblib'\n",
    "\n",
    "# create dataloader\n",
    "dataloader = DataLoader(\n",
    "        data_path=data_path,\n",
    "        ts_file=ts_file,\n",
    "        num_cov_global_file=None,\n",
    "        cat_cov_global_file=None,\n",
    "        num_cov_local_variant_file=[],\n",
    "        cat_cov_local_variant_file=[],\n",
    "        num_cov_local_invariant_file=[],\n",
    "        cat_cov_local_invariant_file=cat_cov_local_invariant_file,\n",
    "        num_cov_local_variant_names=[],\n",
    "        cat_cov_local_variant_names=[],\n",
    "        target_cols=target_cols,\n",
    "        train_range=(0, 24*30*12),\n",
    "        val_range=(24*30*12, 24*30*16),\n",
    "        test_range=(24*30*16, 24*30*20),\n",
    "        hist_len=source_seq_len,\n",
    "        token_len=target_seq_len-pred_len,\n",
    "        pred_len=pred_len,\n",
    "        batch_size=min(32, len(target_cols)),\n",
    "        freq='H',\n",
    "        normalize=True,\n",
    "        use_time_features=True,\n",
    "        use_holiday=True,\n",
    "        use_holiday_distance=True,\n",
    "        normalize_time_features=True,\n",
    "        use_history_for_covariates=True\n",
    ")\n",
    "\n",
    "train_ds = dataloader.generate_dataset(mode=\"train\", shuffle=True, seed=1)\n",
    "val_ds = dataloader.generate_dataset(mode=\"validation\", shuffle=False, seed=1)\n",
    "test_ds = dataloader.generate_dataset(mode=\"test\", shuffle=False, seed=1)\n"
   ]
  },
  {
   "cell_type": "code",
   "execution_count": 10,
   "metadata": {},
   "outputs": [],
   "source": [
    "# create model\n",
    "hidden_size = 512\n",
    "num_layers = 2\n",
    "decoder_output_dim = 32\n",
    "hidden_dims_time_decoder = 16\n",
    "layer_norm = True \n",
    "dropout_rate = 0.5\n",
    "\n",
    "model = TIDE(\n",
    "    pred_length=pred_len,\n",
    "    hidden_dims_encoder=[hidden_size] * num_layers, \n",
    "    output_dims_encoder=[hidden_size] * num_layers, \n",
    "    hidden_dims_decoder=[hidden_size], \n",
    "    output_dims_decoder=[decoder_output_dim*pred_len], \n",
    "    hidden_dims_time_encoder=64,\n",
    "    output_dims_time_encoder=4,\n",
    "    hidden_dims_time_decoder=hidden_dims_time_decoder,\n",
    "    cat_sizes=[1],# a fake 0 for categorical\n",
    "    cat_emb_size=4,\n",
    "    num_ts=len(target_cols),\n",
    "    layer_norm=layer_norm,\n",
    "    dropout_rate=dropout_rate,\n",
    ")"
   ]
  },
  {
   "cell_type": "code",
   "execution_count": 11,
   "metadata": {},
   "outputs": [],
   "source": [
    "# LR scheduling\n",
    "learning_rate = 0.000984894211777642\n",
    "lr_schedule = keras.optimizers.schedules.CosineDecay(\n",
    "    initial_learning_rate=learning_rate,\n",
    "    decay_steps=30 * dataloader.train_range[1],\n",
    ")\n",
    "\n",
    "# loss function\n",
    "loss_fcn = keras.losses.MeanSquaredError()\n",
    "optimizer = keras.optimizers.Adam(learning_rate=lr_schedule, clipvalue=1e3)\n",
    "\n",
    "train_metrics = [tf.keras.metrics.MeanAbsoluteError()]\n",
    "val_metrics = [tf.keras.metrics.MeanAbsoluteError()]\n",
    "test_metrics = [tf.keras.metrics.MeanSquaredError(), tf.keras.metrics.MeanAbsoluteError()]\n",
    "\n",
    "# train step\n",
    "@tf.function\n",
    "def train_step(x, y):\n",
    "    with tf.GradientTape() as tape:\n",
    "        y_pred = model(x, training=True)\n",
    "        loss = loss_fcn(y, y_pred)\n",
    "    \n",
    "    grads = tape.gradient(loss, model.trainable_variables)\n",
    "    optimizer.apply_gradients(zip(grads, model.trainable_variables))\n",
    "    # update metrics\n",
    "    for metric in train_metrics:\n",
    "            metric.update_state(y, y_pred)\n",
    "    return loss\n",
    "\n",
    "# validation step\n",
    "@tf.function\n",
    "def val_step(x, y):\n",
    "    y_pred = model(x, training=False)\n",
    "    loss = loss_fcn(y, y_pred)\n",
    "    for metric in val_metrics:\n",
    "        metric.update_state(y, y_pred)\n",
    "    return loss\n",
    "\n",
    "# test step\n",
    "@tf.function\n",
    "def test_step(x, y):\n",
    "    y_pred = model(x, training=False)\n",
    "    for metric in test_metrics:\n",
    "        metric.update_state(y, y_pred)\n",
    "\n"
   ]
  },
  {
   "cell_type": "code",
   "execution_count": 12,
   "metadata": {},
   "outputs": [
    {
     "name": "stderr",
     "output_type": "stream",
     "text": [
      "2023-09-14 10:11:43.000902: I tensorflow/core/common_runtime/executor.cc:1197] [/device:CPU:0] (DEBUG INFO) Executor start aborting (this does not indicate an error and you can ignore this message): INVALID_ARGUMENT: You must feed a value for placeholder tensor 'Placeholder/_0' with dtype int32\n",
      "\t [[{{node Placeholder/_0}}]]\n",
      "2023-09-14 10:11:45.093152: I tensorflow/compiler/xla/stream_executor/cuda/cuda_blas.cc:637] TensorFloat-32 will be used for the matrix multiplication. This will only be logged once.\n",
      "2023-09-14 10:11:45.240622: I tensorflow/compiler/xla/stream_executor/cuda/cuda_dnn.cc:424] Loaded cuDNN version 8600\n",
      "2023-09-14 10:11:45.360976: I tensorflow/compiler/xla/service/service.cc:169] XLA service 0x7fbc59d274e0 initialized for platform CUDA (this does not guarantee that XLA will be used). Devices:\n",
      "2023-09-14 10:11:45.361044: I tensorflow/compiler/xla/service/service.cc:177]   StreamExecutor device (0): NVIDIA GeForce RTX 3090, Compute Capability 8.6\n",
      "2023-09-14 10:11:45.372183: I tensorflow/compiler/mlir/tensorflow/utils/dump_mlir_util.cc:269] disabling MLIR crash reproducer, set env var `MLIR_CRASH_REPRODUCER_DIRECTORY` to enable.\n",
      "2023-09-14 10:11:45.502237: I ./tensorflow/compiler/jit/device_compiler.h:180] Compiled cluster using XLA!  This line is logged at most once for the lifetime of the process.\n"
     ]
    },
    {
     "name": "stdout",
     "output_type": "stream",
     "text": [
      "Epoch 1/100 training loss: 0.4462, MAE: 0.5265\n"
     ]
    },
    {
     "name": "stderr",
     "output_type": "stream",
     "text": [
      "2023-09-14 10:13:57.975970: I tensorflow/core/common_runtime/executor.cc:1197] [/device:CPU:0] (DEBUG INFO) Executor start aborting (this does not indicate an error and you can ignore this message): INVALID_ARGUMENT: You must feed a value for placeholder tensor 'Placeholder/_0' with dtype int32\n",
      "\t [[{{node Placeholder/_0}}]]\n"
     ]
    },
    {
     "name": "stdout",
     "output_type": "stream",
     "text": [
      "Epoch 1/100 validation loss: 0.5423, MAE: 0.0000\n"
     ]
    },
    {
     "ename": "KeyboardInterrupt",
     "evalue": "",
     "output_type": "error",
     "traceback": [
      "\u001b[0;31m---------------------------------------------------------------------------\u001b[0m",
      "\u001b[0;31mKeyboardInterrupt\u001b[0m                         Traceback (most recent call last)",
      "Cell \u001b[0;32mIn[12], line 29\u001b[0m\n\u001b[1;32m     26\u001b[0m     \u001b[39m# (B, H)\u001b[39;00m\n\u001b[1;32m     27\u001b[0m     targets \u001b[39m=\u001b[39m tf\u001b[39m.\u001b[39msqueeze(ts_dec)\n\u001b[0;32m---> 29\u001b[0m     loss \u001b[39m=\u001b[39m train_step((past_data, future_features, tsidx), targets)\n\u001b[1;32m     31\u001b[0m \u001b[39m# print loss every epoch\u001b[39;00m\n\u001b[1;32m     32\u001b[0m \u001b[39mprint\u001b[39m(\u001b[39mf\u001b[39m\u001b[39m\"\u001b[39m\u001b[39mEpoch \u001b[39m\u001b[39m{\u001b[39;00mepoch\u001b[39m+\u001b[39m\u001b[39m1\u001b[39m\u001b[39m}\u001b[39;00m\u001b[39m/\u001b[39m\u001b[39m{\u001b[39;00mMAX_EPOCHS\u001b[39m}\u001b[39;00m\u001b[39m training loss: \u001b[39m\u001b[39m{\u001b[39;00mloss\u001b[39m:\u001b[39;00m\u001b[39m.4f\u001b[39m\u001b[39m}\u001b[39;00m\u001b[39m, MAE: \u001b[39m\u001b[39m{\u001b[39;00mtrain_metrics[\u001b[39m0\u001b[39m]\u001b[39m.\u001b[39mresult()\u001b[39m:\u001b[39;00m\u001b[39m.4f\u001b[39m\u001b[39m}\u001b[39;00m\u001b[39m\"\u001b[39m)\n",
      "File \u001b[0;32m~/miniconda3/envs/tts-tf/lib/python3.9/site-packages/tensorflow/python/util/traceback_utils.py:150\u001b[0m, in \u001b[0;36mfilter_traceback.<locals>.error_handler\u001b[0;34m(*args, **kwargs)\u001b[0m\n\u001b[1;32m    148\u001b[0m filtered_tb \u001b[39m=\u001b[39m \u001b[39mNone\u001b[39;00m\n\u001b[1;32m    149\u001b[0m \u001b[39mtry\u001b[39;00m:\n\u001b[0;32m--> 150\u001b[0m   \u001b[39mreturn\u001b[39;00m fn(\u001b[39m*\u001b[39;49margs, \u001b[39m*\u001b[39;49m\u001b[39m*\u001b[39;49mkwargs)\n\u001b[1;32m    151\u001b[0m \u001b[39mexcept\u001b[39;00m \u001b[39mException\u001b[39;00m \u001b[39mas\u001b[39;00m e:\n\u001b[1;32m    152\u001b[0m   filtered_tb \u001b[39m=\u001b[39m _process_traceback_frames(e\u001b[39m.\u001b[39m__traceback__)\n",
      "File \u001b[0;32m~/miniconda3/envs/tts-tf/lib/python3.9/site-packages/tensorflow/python/eager/polymorphic_function/polymorphic_function.py:894\u001b[0m, in \u001b[0;36mFunction.__call__\u001b[0;34m(self, *args, **kwds)\u001b[0m\n\u001b[1;32m    891\u001b[0m compiler \u001b[39m=\u001b[39m \u001b[39m\"\u001b[39m\u001b[39mxla\u001b[39m\u001b[39m\"\u001b[39m \u001b[39mif\u001b[39;00m \u001b[39mself\u001b[39m\u001b[39m.\u001b[39m_jit_compile \u001b[39melse\u001b[39;00m \u001b[39m\"\u001b[39m\u001b[39mnonXla\u001b[39m\u001b[39m\"\u001b[39m\n\u001b[1;32m    893\u001b[0m \u001b[39mwith\u001b[39;00m OptionalXlaContext(\u001b[39mself\u001b[39m\u001b[39m.\u001b[39m_jit_compile):\n\u001b[0;32m--> 894\u001b[0m   result \u001b[39m=\u001b[39m \u001b[39mself\u001b[39;49m\u001b[39m.\u001b[39;49m_call(\u001b[39m*\u001b[39;49margs, \u001b[39m*\u001b[39;49m\u001b[39m*\u001b[39;49mkwds)\n\u001b[1;32m    896\u001b[0m new_tracing_count \u001b[39m=\u001b[39m \u001b[39mself\u001b[39m\u001b[39m.\u001b[39mexperimental_get_tracing_count()\n\u001b[1;32m    897\u001b[0m without_tracing \u001b[39m=\u001b[39m (tracing_count \u001b[39m==\u001b[39m new_tracing_count)\n",
      "File \u001b[0;32m~/miniconda3/envs/tts-tf/lib/python3.9/site-packages/tensorflow/python/eager/polymorphic_function/polymorphic_function.py:926\u001b[0m, in \u001b[0;36mFunction._call\u001b[0;34m(self, *args, **kwds)\u001b[0m\n\u001b[1;32m    923\u001b[0m   \u001b[39mself\u001b[39m\u001b[39m.\u001b[39m_lock\u001b[39m.\u001b[39mrelease()\n\u001b[1;32m    924\u001b[0m   \u001b[39m# In this case we have created variables on the first call, so we run the\u001b[39;00m\n\u001b[1;32m    925\u001b[0m   \u001b[39m# defunned version which is guaranteed to never create variables.\u001b[39;00m\n\u001b[0;32m--> 926\u001b[0m   \u001b[39mreturn\u001b[39;00m \u001b[39mself\u001b[39;49m\u001b[39m.\u001b[39;49m_no_variable_creation_fn(\u001b[39m*\u001b[39;49margs, \u001b[39m*\u001b[39;49m\u001b[39m*\u001b[39;49mkwds)  \u001b[39m# pylint: disable=not-callable\u001b[39;00m\n\u001b[1;32m    927\u001b[0m \u001b[39melif\u001b[39;00m \u001b[39mself\u001b[39m\u001b[39m.\u001b[39m_variable_creation_fn \u001b[39mis\u001b[39;00m \u001b[39mnot\u001b[39;00m \u001b[39mNone\u001b[39;00m:\n\u001b[1;32m    928\u001b[0m   \u001b[39m# Release the lock early so that multiple threads can perform the call\u001b[39;00m\n\u001b[1;32m    929\u001b[0m   \u001b[39m# in parallel.\u001b[39;00m\n\u001b[1;32m    930\u001b[0m   \u001b[39mself\u001b[39m\u001b[39m.\u001b[39m_lock\u001b[39m.\u001b[39mrelease()\n",
      "File \u001b[0;32m~/miniconda3/envs/tts-tf/lib/python3.9/site-packages/tensorflow/python/eager/polymorphic_function/tracing_compiler.py:143\u001b[0m, in \u001b[0;36mTracingCompiler.__call__\u001b[0;34m(self, *args, **kwargs)\u001b[0m\n\u001b[1;32m    140\u001b[0m \u001b[39mwith\u001b[39;00m \u001b[39mself\u001b[39m\u001b[39m.\u001b[39m_lock:\n\u001b[1;32m    141\u001b[0m   (concrete_function,\n\u001b[1;32m    142\u001b[0m    filtered_flat_args) \u001b[39m=\u001b[39m \u001b[39mself\u001b[39m\u001b[39m.\u001b[39m_maybe_define_function(args, kwargs)\n\u001b[0;32m--> 143\u001b[0m \u001b[39mreturn\u001b[39;00m concrete_function\u001b[39m.\u001b[39;49m_call_flat(\n\u001b[1;32m    144\u001b[0m     filtered_flat_args, captured_inputs\u001b[39m=\u001b[39;49mconcrete_function\u001b[39m.\u001b[39;49mcaptured_inputs)\n",
      "File \u001b[0;32m~/miniconda3/envs/tts-tf/lib/python3.9/site-packages/tensorflow/python/eager/polymorphic_function/monomorphic_function.py:1757\u001b[0m, in \u001b[0;36mConcreteFunction._call_flat\u001b[0;34m(self, args, captured_inputs, cancellation_manager)\u001b[0m\n\u001b[1;32m   1753\u001b[0m possible_gradient_type \u001b[39m=\u001b[39m gradients_util\u001b[39m.\u001b[39mPossibleTapeGradientTypes(args)\n\u001b[1;32m   1754\u001b[0m \u001b[39mif\u001b[39;00m (possible_gradient_type \u001b[39m==\u001b[39m gradients_util\u001b[39m.\u001b[39mPOSSIBLE_GRADIENT_TYPES_NONE\n\u001b[1;32m   1755\u001b[0m     \u001b[39mand\u001b[39;00m executing_eagerly):\n\u001b[1;32m   1756\u001b[0m   \u001b[39m# No tape is watching; skip to running the function.\u001b[39;00m\n\u001b[0;32m-> 1757\u001b[0m   \u001b[39mreturn\u001b[39;00m \u001b[39mself\u001b[39m\u001b[39m.\u001b[39m_build_call_outputs(\u001b[39mself\u001b[39;49m\u001b[39m.\u001b[39;49m_inference_function\u001b[39m.\u001b[39;49mcall(\n\u001b[1;32m   1758\u001b[0m       ctx, args, cancellation_manager\u001b[39m=\u001b[39;49mcancellation_manager))\n\u001b[1;32m   1759\u001b[0m forward_backward \u001b[39m=\u001b[39m \u001b[39mself\u001b[39m\u001b[39m.\u001b[39m_select_forward_and_backward_functions(\n\u001b[1;32m   1760\u001b[0m     args,\n\u001b[1;32m   1761\u001b[0m     possible_gradient_type,\n\u001b[1;32m   1762\u001b[0m     executing_eagerly)\n\u001b[1;32m   1763\u001b[0m forward_function, args_with_tangents \u001b[39m=\u001b[39m forward_backward\u001b[39m.\u001b[39mforward()\n",
      "File \u001b[0;32m~/miniconda3/envs/tts-tf/lib/python3.9/site-packages/tensorflow/python/eager/polymorphic_function/monomorphic_function.py:381\u001b[0m, in \u001b[0;36m_EagerDefinedFunction.call\u001b[0;34m(self, ctx, args, cancellation_manager)\u001b[0m\n\u001b[1;32m    379\u001b[0m \u001b[39mwith\u001b[39;00m _InterpolateFunctionError(\u001b[39mself\u001b[39m):\n\u001b[1;32m    380\u001b[0m   \u001b[39mif\u001b[39;00m cancellation_manager \u001b[39mis\u001b[39;00m \u001b[39mNone\u001b[39;00m:\n\u001b[0;32m--> 381\u001b[0m     outputs \u001b[39m=\u001b[39m execute\u001b[39m.\u001b[39;49mexecute(\n\u001b[1;32m    382\u001b[0m         \u001b[39mstr\u001b[39;49m(\u001b[39mself\u001b[39;49m\u001b[39m.\u001b[39;49msignature\u001b[39m.\u001b[39;49mname),\n\u001b[1;32m    383\u001b[0m         num_outputs\u001b[39m=\u001b[39;49m\u001b[39mself\u001b[39;49m\u001b[39m.\u001b[39;49m_num_outputs,\n\u001b[1;32m    384\u001b[0m         inputs\u001b[39m=\u001b[39;49margs,\n\u001b[1;32m    385\u001b[0m         attrs\u001b[39m=\u001b[39;49mattrs,\n\u001b[1;32m    386\u001b[0m         ctx\u001b[39m=\u001b[39;49mctx)\n\u001b[1;32m    387\u001b[0m   \u001b[39melse\u001b[39;00m:\n\u001b[1;32m    388\u001b[0m     outputs \u001b[39m=\u001b[39m execute\u001b[39m.\u001b[39mexecute_with_cancellation(\n\u001b[1;32m    389\u001b[0m         \u001b[39mstr\u001b[39m(\u001b[39mself\u001b[39m\u001b[39m.\u001b[39msignature\u001b[39m.\u001b[39mname),\n\u001b[1;32m    390\u001b[0m         num_outputs\u001b[39m=\u001b[39m\u001b[39mself\u001b[39m\u001b[39m.\u001b[39m_num_outputs,\n\u001b[0;32m   (...)\u001b[0m\n\u001b[1;32m    393\u001b[0m         ctx\u001b[39m=\u001b[39mctx,\n\u001b[1;32m    394\u001b[0m         cancellation_manager\u001b[39m=\u001b[39mcancellation_manager)\n",
      "File \u001b[0;32m~/miniconda3/envs/tts-tf/lib/python3.9/site-packages/tensorflow/python/eager/execute.py:52\u001b[0m, in \u001b[0;36mquick_execute\u001b[0;34m(op_name, num_outputs, inputs, attrs, ctx, name)\u001b[0m\n\u001b[1;32m     50\u001b[0m \u001b[39mtry\u001b[39;00m:\n\u001b[1;32m     51\u001b[0m   ctx\u001b[39m.\u001b[39mensure_initialized()\n\u001b[0;32m---> 52\u001b[0m   tensors \u001b[39m=\u001b[39m pywrap_tfe\u001b[39m.\u001b[39;49mTFE_Py_Execute(ctx\u001b[39m.\u001b[39;49m_handle, device_name, op_name,\n\u001b[1;32m     53\u001b[0m                                       inputs, attrs, num_outputs)\n\u001b[1;32m     54\u001b[0m \u001b[39mexcept\u001b[39;00m core\u001b[39m.\u001b[39m_NotOkStatusException \u001b[39mas\u001b[39;00m e:\n\u001b[1;32m     55\u001b[0m   \u001b[39mif\u001b[39;00m name \u001b[39mis\u001b[39;00m \u001b[39mnot\u001b[39;00m \u001b[39mNone\u001b[39;00m:\n",
      "\u001b[0;31mKeyboardInterrupt\u001b[0m: "
     ]
    }
   ],
   "source": [
    "# main loop\n",
    "MAX_EPOCHS = 100\n",
    "patience = 20\n",
    "wait = 0\n",
    "best_val_loss = np.inf\n",
    "\n",
    "for epoch in range(MAX_EPOCHS):\n",
    "    # take a batch\n",
    "    for batch in train_ds:\n",
    "        enc, dec = batch\n",
    "        (ts_enc, num_global_enc, cat_global_enc, \n",
    "         num_local_variant_enc, cat_local_variant_enc, \n",
    "         num_local_invariant_enc, cat_local_invariant_enc, time_features_enc) = enc\n",
    "        (ts_dec, num_global_dec, cat_global_dec, \n",
    "         num_local_variant_dec, cat_local_variant_dec, \n",
    "         num_local_invariant_dec, cat_local_invariant_dec, time_features_dec) = dec\n",
    "        \n",
    "        # Note the orginal paper uses constant 0 for categorical features if not specified.\n",
    "        # (B, L), (nx, L), ()\n",
    "        # (past ts, past global covariates, past local invariants)\n",
    "        past_data = (tf.squeeze(ts_enc), tf.transpose(time_features_enc[0,:, :], perm=(1,0)), tf.zeros((1, source_seq_len)))\n",
    "        # (nx, H), () \n",
    "        future_features = (tf.transpose(time_features_dec[0,:,:], perm=(1,0)), tf.zeros((1,target_seq_len)))\n",
    "        # (B,)\n",
    "        tsidx = tf.squeeze(cat_local_invariant_enc) # (B, )\n",
    "        # (B, H)\n",
    "        targets = tf.squeeze(ts_dec)\n",
    "\n",
    "        loss = train_step((past_data, future_features, tsidx), targets)\n",
    "        \n",
    "    # print loss every epoch\n",
    "    print(f\"Epoch {epoch+1}/{MAX_EPOCHS} training loss: {loss:.4f}, MAE: {train_metrics[0].result():.4f}\")\n",
    "    \n",
    "    # reset train metrics\n",
    "    for metric in train_metrics:\n",
    "        metric.reset_states()\n",
    "    \n",
    "    # run validation loop\n",
    "    # how to run validaiton loop without batching?\n",
    "    \n",
    "    for val_batch in val_ds:\n",
    "        enc, dec = val_batch\n",
    "        (ts_enc, num_global_enc, cat_global_enc, \n",
    "         num_local_variant_enc, cat_local_variant_enc, \n",
    "         num_local_invariant_enc, cat_local_invariant_enc, time_features_enc) = enc\n",
    "        (ts_dec, num_global_dec, cat_global_dec, \n",
    "         num_local_variant_dec, cat_local_variant_dec, \n",
    "         num_local_invariant_dec, cat_local_invariant_dec, time_features_dec) = dec\n",
    "\n",
    "        # Note the orginal paper uses constant 0 for categorical features if not specified.\n",
    "        # (B, L), (nx, L), ()\n",
    "        # (past ts, past global covariates, past local invariants)\n",
    "        past_data = (tf.squeeze(ts_enc), tf.transpose(time_features_enc[0,:, :], perm=(1,0)), tf.zeros((1, source_seq_len)))\n",
    "        # (nx, H), () \n",
    "        future_features = (tf.transpose(time_features_dec[0,:,:], perm=(1,0)), tf.zeros((1,target_seq_len)))\n",
    "        # (B,)\n",
    "        tsidx = tf.squeeze(cat_local_invariant_enc) # (B, )\n",
    "        # (B, H)\n",
    "        targets = tf.squeeze(ts_dec)\n",
    "\n",
    "        loss_val = train_step((past_data, future_features, tsidx), targets)\n",
    "        \n",
    "        # print loss every epoch\n",
    "    print(f\"Epoch {epoch+1}/{MAX_EPOCHS} validation loss: {loss_val:.4f}, MAE: {val_metrics[0].result():.4f}\")\n",
    "    \n",
    "    # reset val metrics\n",
    "    for metric in val_metrics:\n",
    "        metric.reset_states()\n",
    "    \n",
    "    ## early stopping\n",
    "    wait += 1\n",
    "    if loss_val < best_val_loss:\n",
    "        best_val_loss = loss_val\n",
    "        wait = 0\n",
    "        model.save_weights(\"tide.h5\")\n",
    "    if wait > patience:\n",
    "        print('early stopping...')\n",
    "        break\n"
   ]
  },
  {
   "cell_type": "markdown",
   "metadata": {},
   "source": [
    "## Test"
   ]
  },
  {
   "cell_type": "code",
   "execution_count": null,
   "metadata": {},
   "outputs": [],
   "source": [
    "# run test loop     \n",
    "for test_batch in test_ds:\n",
    "    enc, dec = test_batch\n",
    "    (ts_enc, num_global_enc, cat_global_enc, \n",
    "        num_local_variant_enc, cat_local_variant_enc, \n",
    "        num_local_invariant_enc, cat_local_invariant_enc, time_features_enc) = enc\n",
    "    (ts_dec, num_global_dec, cat_global_dec, \n",
    "        num_local_variant_dec, cat_local_variant_dec, \n",
    "        num_local_invariant_dec, cat_local_invariant_dec, time_features_dec) = dec\n",
    "        \n",
    "    # Note the orginal paper uses constant 0 for categorical features if not specified.\n",
    "    # (B, L), (nx, L), ()\n",
    "    # (past ts, past global covariates, past local invariants)\n",
    "    past_data = (tf.squeeze(ts_enc), tf.transpose(time_features_enc[0,:, :], perm=(1,0)), tf.zeros((1, source_seq_len)))\n",
    "    # (nx, H), () \n",
    "    future_features = (tf.transpose(time_features_dec[0,:,:], perm=(1,0)), tf.zeros((1,target_seq_len)))\n",
    "    # (B,)\n",
    "    tsidx = tf.squeeze(cat_local_invariant_enc) # (B, )\n",
    "    # (B, H)\n",
    "    targets = tf.squeeze(ts_dec)\n",
    "\n",
    "    test_step((past_data, future_features, tsidx), targets)\n",
    "    \n",
    "# print loss every epoch\n",
    "print(f\"Test loss MSE: {test_metrics[0].result():.4f}, MAE: {test_metrics[1].result():.4f}\")\n",
    "    \n",
    "# reset val metrics\n",
    "for metric in test_metrics:\n",
    "    metric.reset_states()\n",
    "\n",
    "print(model.summary())"
   ]
  }
 ],
 "metadata": {
  "kernelspec": {
   "display_name": "tts-tf",
   "language": "python",
   "name": "python3"
  },
  "language_info": {
   "codemirror_mode": {
    "name": "ipython",
    "version": 3
   },
   "file_extension": ".py",
   "mimetype": "text/x-python",
   "name": "python",
   "nbconvert_exporter": "python",
   "pygments_lexer": "ipython3",
   "version": "3.9.0"
  },
  "orig_nbformat": 4
 },
 "nbformat": 4,
 "nbformat_minor": 2
}

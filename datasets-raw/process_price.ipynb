{
 "cells": [
  {
   "cell_type": "code",
   "execution_count": 12,
   "metadata": {},
   "outputs": [],
   "source": [
    "import pandas as pd \n",
    "import os\n",
    "import pathlib \n",
    "import joblib\n",
    "\n",
    "from tsl.utils.utils import seed_everything, reduce_mem_usage\n",
    "\n",
    "# %%\n",
    "def dump(df, name, path):\n",
    "    df = reduce_mem_usage(df)\n",
    "    save_dir = pathlib.Path(path)\n",
    "    if not save_dir.exists():\n",
    "        save_dir.mkdir(parents=True)\n",
    "    joblib.dump(df, save_dir / f'{name}.joblib', compress=True)\n",
    "\n",
    "dump_dir = os.path.join('./electricity_price', 'price')\n"
   ]
  },
  {
   "cell_type": "markdown",
   "metadata": {},
   "source": [
    "## Load Data"
   ]
  },
  {
   "cell_type": "code",
   "execution_count": 6,
   "metadata": {},
   "outputs": [
    {
     "data": {
      "text/plain": [
       "Index(['central_mtlf_fc', 'north_mtlf_fc', 'south_mtlf_fc', 'system_mtlf_fc',\n",
       "       'ia_ksux_ws_mph_fc', 'il_kmdw_ws_mph_fc', 'mi_kanj_ws_mph_fc',\n",
       "       'mi_karb_ws_mph_fc', 'mi_kazo_ws_mph_fc', 'mi_klan_ws_mph_fc',\n",
       "       'mn_kinl_ws_mph_fc', 'mn_krst_ws_mph_fc', 'mo_kstl_ws_mph_fc',\n",
       "       'oh_kakr_ws_mph_fc', 'ok_kclk_ws_mph_fc', 'ok_kokc_ws_mph_fc',\n",
       "       'ok_ktul_ws_mph_fc', 'ok_kwdg_ws_mph_fc', 'sc_kchs_ws_mph_fc',\n",
       "       'ar_kjbr_td_f_fc', 'ia_kdsm_td_f_fc', 'in_kfwa_td_f_fc',\n",
       "       'ky_ksdf_td_f_fc', 'la_kbtr_td_f_fc', 'mi_klan_td_f_fc',\n",
       "       'mn_kinl_td_f_fc', 'mo_kstl_td_f_fc', 'oh_kluk_td_f_fc',\n",
       "       'ok_klaw_td_f_fc', 'hour', 'weekday', 'month',\n",
       "       'da_energy_aeci_lmpexpost_ac_log',\n",
       "       'da_energy_michigan_hub_lmpexpost_ac_log',\n",
       "       'da_energy_minn_hub_lmpexpost_ac_log'],\n",
       "      dtype='object')"
      ]
     },
     "execution_count": 6,
     "metadata": {},
     "output_type": "execute_result"
    }
   ],
   "source": [
    "data_path = './electricity_price'\n",
    "data_file = 'da_price.csv'\n",
    "\n",
    "data = pd.read_csv(os.path.join(data_path, data_file), parse_dates=True, index_col=0)\n",
    "data.index.name = 'date'\n",
    "data.columns"
   ]
  },
  {
   "cell_type": "markdown",
   "metadata": {},
   "source": [
    "Drop time columns as they will be reconstructed from the date column."
   ]
  },
  {
   "cell_type": "code",
   "execution_count": 7,
   "metadata": {},
   "outputs": [
    {
     "data": {
      "text/plain": [
       "Index(['central_mtlf_fc', 'north_mtlf_fc', 'south_mtlf_fc', 'system_mtlf_fc',\n",
       "       'ia_ksux_ws_mph_fc', 'il_kmdw_ws_mph_fc', 'mi_kanj_ws_mph_fc',\n",
       "       'mi_karb_ws_mph_fc', 'mi_kazo_ws_mph_fc', 'mi_klan_ws_mph_fc',\n",
       "       'mn_kinl_ws_mph_fc', 'mn_krst_ws_mph_fc', 'mo_kstl_ws_mph_fc',\n",
       "       'oh_kakr_ws_mph_fc', 'ok_kclk_ws_mph_fc', 'ok_kokc_ws_mph_fc',\n",
       "       'ok_ktul_ws_mph_fc', 'ok_kwdg_ws_mph_fc', 'sc_kchs_ws_mph_fc',\n",
       "       'ar_kjbr_td_f_fc', 'ia_kdsm_td_f_fc', 'in_kfwa_td_f_fc',\n",
       "       'ky_ksdf_td_f_fc', 'la_kbtr_td_f_fc', 'mi_klan_td_f_fc',\n",
       "       'mn_kinl_td_f_fc', 'mo_kstl_td_f_fc', 'oh_kluk_td_f_fc',\n",
       "       'ok_klaw_td_f_fc', 'da_energy_aeci_lmpexpost_ac_log',\n",
       "       'da_energy_michigan_hub_lmpexpost_ac_log',\n",
       "       'da_energy_minn_hub_lmpexpost_ac_log'],\n",
       "      dtype='object')"
      ]
     },
     "execution_count": 7,
     "metadata": {},
     "output_type": "execute_result"
    }
   ],
   "source": [
    "drop_cols=['hour', 'weekday', 'month']\n",
    "data = data.drop(drop_cols, axis=1)\n",
    "data.columns"
   ]
  },
  {
   "cell_type": "markdown",
   "metadata": {},
   "source": [
    "## Time Series\n",
    "The prediction targets in this dataset are the energy prices at three locations.  \n",
    "The other features are treated as global features that affect all three locations.\n",
    "although we can also process so that each location has its own set of local features.\n"
   ]
  },
  {
   "cell_type": "code",
   "execution_count": 8,
   "metadata": {},
   "outputs": [
    {
     "data": {
      "text/html": [
       "<div>\n",
       "<style scoped>\n",
       "    .dataframe tbody tr th:only-of-type {\n",
       "        vertical-align: middle;\n",
       "    }\n",
       "\n",
       "    .dataframe tbody tr th {\n",
       "        vertical-align: top;\n",
       "    }\n",
       "\n",
       "    .dataframe thead th {\n",
       "        text-align: right;\n",
       "    }\n",
       "</style>\n",
       "<table border=\"1\" class=\"dataframe\">\n",
       "  <thead>\n",
       "    <tr style=\"text-align: right;\">\n",
       "      <th></th>\n",
       "      <th>da_energy_aeci_lmpexpost_ac_log</th>\n",
       "      <th>da_energy_michigan_hub_lmpexpost_ac_log</th>\n",
       "      <th>da_energy_minn_hub_lmpexpost_ac_log</th>\n",
       "    </tr>\n",
       "    <tr>\n",
       "      <th>date</th>\n",
       "      <th></th>\n",
       "      <th></th>\n",
       "      <th></th>\n",
       "    </tr>\n",
       "  </thead>\n",
       "  <tbody>\n",
       "    <tr>\n",
       "      <th>2019-09-01 00:00:00</th>\n",
       "      <td>3.849083</td>\n",
       "      <td>3.908015</td>\n",
       "      <td>3.853334</td>\n",
       "    </tr>\n",
       "    <tr>\n",
       "      <th>2019-09-01 01:00:00</th>\n",
       "      <td>3.823629</td>\n",
       "      <td>3.886500</td>\n",
       "      <td>3.829728</td>\n",
       "    </tr>\n",
       "    <tr>\n",
       "      <th>2019-09-01 02:00:00</th>\n",
       "      <td>3.824721</td>\n",
       "      <td>3.857989</td>\n",
       "      <td>3.817712</td>\n",
       "    </tr>\n",
       "    <tr>\n",
       "      <th>2019-09-01 03:00:00</th>\n",
       "      <td>3.771150</td>\n",
       "      <td>3.813528</td>\n",
       "      <td>3.793239</td>\n",
       "    </tr>\n",
       "    <tr>\n",
       "      <th>2019-09-01 04:00:00</th>\n",
       "      <td>3.783735</td>\n",
       "      <td>3.803769</td>\n",
       "      <td>3.749739</td>\n",
       "    </tr>\n",
       "  </tbody>\n",
       "</table>\n",
       "</div>"
      ],
      "text/plain": [
       "                     da_energy_aeci_lmpexpost_ac_log  \\\n",
       "date                                                   \n",
       "2019-09-01 00:00:00                         3.849083   \n",
       "2019-09-01 01:00:00                         3.823629   \n",
       "2019-09-01 02:00:00                         3.824721   \n",
       "2019-09-01 03:00:00                         3.771150   \n",
       "2019-09-01 04:00:00                         3.783735   \n",
       "\n",
       "                     da_energy_michigan_hub_lmpexpost_ac_log  \\\n",
       "date                                                           \n",
       "2019-09-01 00:00:00                                 3.908015   \n",
       "2019-09-01 01:00:00                                 3.886500   \n",
       "2019-09-01 02:00:00                                 3.857989   \n",
       "2019-09-01 03:00:00                                 3.813528   \n",
       "2019-09-01 04:00:00                                 3.803769   \n",
       "\n",
       "                     da_energy_minn_hub_lmpexpost_ac_log  \n",
       "date                                                      \n",
       "2019-09-01 00:00:00                             3.853334  \n",
       "2019-09-01 01:00:00                             3.829728  \n",
       "2019-09-01 02:00:00                             3.817712  \n",
       "2019-09-01 03:00:00                             3.793239  \n",
       "2019-09-01 04:00:00                             3.749739  "
      ]
     },
     "execution_count": 8,
     "metadata": {},
     "output_type": "execute_result"
    }
   ],
   "source": [
    "# log price of the day-ahead market log(original_price + 50) because the original price can be negative\n",
    "ts_cols = ['da_energy_aeci_lmpexpost_ac_log',\n",
    "       'da_energy_michigan_hub_lmpexpost_ac_log',\n",
    "       'da_energy_minn_hub_lmpexpost_ac_log']\n",
    "\n",
    "ts = data[ts_cols]\n"
   ]
  },
  {
   "cell_type": "code",
   "execution_count": 13,
   "metadata": {},
   "outputs": [
    {
     "name": "stdout",
     "output_type": "stream",
     "text": [
      "Mem. usage decreased to  0.23 Mb (0.0% reduction)\n"
     ]
    },
    {
     "name": "stderr",
     "output_type": "stream",
     "text": [
      "/home/yyf/miniconda3/envs/tts-tf/lib/python3.9/site-packages/tsl/utils/utils.py:40: SettingWithCopyWarning: \n",
      "A value is trying to be set on a copy of a slice from a DataFrame.\n",
      "Try using .loc[row_indexer,col_indexer] = value instead\n",
      "\n",
      "See the caveats in the documentation: https://pandas.pydata.org/pandas-docs/stable/user_guide/indexing.html#returning-a-view-versus-a-copy\n",
      "  df[col] = df[col].astype(np.float16)\n",
      "/home/yyf/miniconda3/envs/tts-tf/lib/python3.9/site-packages/tsl/utils/utils.py:40: SettingWithCopyWarning: \n",
      "A value is trying to be set on a copy of a slice from a DataFrame.\n",
      "Try using .loc[row_indexer,col_indexer] = value instead\n",
      "\n",
      "See the caveats in the documentation: https://pandas.pydata.org/pandas-docs/stable/user_guide/indexing.html#returning-a-view-versus-a-copy\n",
      "  df[col] = df[col].astype(np.float16)\n",
      "/home/yyf/miniconda3/envs/tts-tf/lib/python3.9/site-packages/tsl/utils/utils.py:40: SettingWithCopyWarning: \n",
      "A value is trying to be set on a copy of a slice from a DataFrame.\n",
      "Try using .loc[row_indexer,col_indexer] = value instead\n",
      "\n",
      "See the caveats in the documentation: https://pandas.pydata.org/pandas-docs/stable/user_guide/indexing.html#returning-a-view-versus-a-copy\n",
      "  df[col] = df[col].astype(np.float16)\n"
     ]
    }
   ],
   "source": [
    "dump(ts, 'ts', dump_dir)"
   ]
  },
  {
   "cell_type": "markdown",
   "metadata": {},
   "source": [
    "## Global Features\n",
    "The global features are the same for all locations.\n",
    "\n",
    "Note it might be better to generate location-specific features, but we will start with global features."
   ]
  },
  {
   "cell_type": "code",
   "execution_count": 14,
   "metadata": {},
   "outputs": [
    {
     "data": {
      "text/plain": [
       "(17497, 29)"
      ]
     },
     "execution_count": 14,
     "metadata": {},
     "output_type": "execute_result"
    }
   ],
   "source": [
    "num_global_cols = ['central_mtlf_fc', 'north_mtlf_fc', 'south_mtlf_fc', 'system_mtlf_fc',\n",
    "       'ia_ksux_ws_mph_fc', 'il_kmdw_ws_mph_fc', 'mi_kanj_ws_mph_fc',\n",
    "       'mi_karb_ws_mph_fc', 'mi_kazo_ws_mph_fc', 'mi_klan_ws_mph_fc',\n",
    "       'mn_kinl_ws_mph_fc', 'mn_krst_ws_mph_fc', 'mo_kstl_ws_mph_fc',\n",
    "       'oh_kakr_ws_mph_fc', 'ok_kclk_ws_mph_fc', 'ok_kokc_ws_mph_fc',\n",
    "       'ok_ktul_ws_mph_fc', 'ok_kwdg_ws_mph_fc', 'sc_kchs_ws_mph_fc',\n",
    "       'ar_kjbr_td_f_fc', 'ia_kdsm_td_f_fc', 'in_kfwa_td_f_fc',\n",
    "       'ky_ksdf_td_f_fc', 'la_kbtr_td_f_fc', 'mi_klan_td_f_fc',\n",
    "       'mn_kinl_td_f_fc', 'mo_kstl_td_f_fc', 'oh_kluk_td_f_fc',\n",
    "       'ok_klaw_td_f_fc']\n",
    "\n",
    "num_global = data[num_global_cols]\n",
    "num_global.shape"
   ]
  },
  {
   "cell_type": "code",
   "execution_count": 15,
   "metadata": {},
   "outputs": [
    {
     "name": "stdout",
     "output_type": "stream",
     "text": [
      "Mem. usage decreased to  1.17 Mb (70.8% reduction)\n"
     ]
    },
    {
     "name": "stderr",
     "output_type": "stream",
     "text": [
      "/home/yyf/miniconda3/envs/tts-tf/lib/python3.9/site-packages/tsl/utils/utils.py:42: SettingWithCopyWarning: \n",
      "A value is trying to be set on a copy of a slice from a DataFrame.\n",
      "Try using .loc[row_indexer,col_indexer] = value instead\n",
      "\n",
      "See the caveats in the documentation: https://pandas.pydata.org/pandas-docs/stable/user_guide/indexing.html#returning-a-view-versus-a-copy\n",
      "  df[col] = df[col].astype(np.float32)\n",
      "/home/yyf/miniconda3/envs/tts-tf/lib/python3.9/site-packages/tsl/utils/utils.py:40: SettingWithCopyWarning: \n",
      "A value is trying to be set on a copy of a slice from a DataFrame.\n",
      "Try using .loc[row_indexer,col_indexer] = value instead\n",
      "\n",
      "See the caveats in the documentation: https://pandas.pydata.org/pandas-docs/stable/user_guide/indexing.html#returning-a-view-versus-a-copy\n",
      "  df[col] = df[col].astype(np.float16)\n",
      "/home/yyf/miniconda3/envs/tts-tf/lib/python3.9/site-packages/tsl/utils/utils.py:40: SettingWithCopyWarning: \n",
      "A value is trying to be set on a copy of a slice from a DataFrame.\n",
      "Try using .loc[row_indexer,col_indexer] = value instead\n",
      "\n",
      "See the caveats in the documentation: https://pandas.pydata.org/pandas-docs/stable/user_guide/indexing.html#returning-a-view-versus-a-copy\n",
      "  df[col] = df[col].astype(np.float16)\n",
      "/home/yyf/miniconda3/envs/tts-tf/lib/python3.9/site-packages/tsl/utils/utils.py:42: SettingWithCopyWarning: \n",
      "A value is trying to be set on a copy of a slice from a DataFrame.\n",
      "Try using .loc[row_indexer,col_indexer] = value instead\n",
      "\n",
      "See the caveats in the documentation: https://pandas.pydata.org/pandas-docs/stable/user_guide/indexing.html#returning-a-view-versus-a-copy\n",
      "  df[col] = df[col].astype(np.float32)\n",
      "/home/yyf/miniconda3/envs/tts-tf/lib/python3.9/site-packages/tsl/utils/utils.py:40: SettingWithCopyWarning: \n",
      "A value is trying to be set on a copy of a slice from a DataFrame.\n",
      "Try using .loc[row_indexer,col_indexer] = value instead\n",
      "\n",
      "See the caveats in the documentation: https://pandas.pydata.org/pandas-docs/stable/user_guide/indexing.html#returning-a-view-versus-a-copy\n",
      "  df[col] = df[col].astype(np.float16)\n",
      "/home/yyf/miniconda3/envs/tts-tf/lib/python3.9/site-packages/tsl/utils/utils.py:40: SettingWithCopyWarning: \n",
      "A value is trying to be set on a copy of a slice from a DataFrame.\n",
      "Try using .loc[row_indexer,col_indexer] = value instead\n",
      "\n",
      "See the caveats in the documentation: https://pandas.pydata.org/pandas-docs/stable/user_guide/indexing.html#returning-a-view-versus-a-copy\n",
      "  df[col] = df[col].astype(np.float16)\n",
      "/home/yyf/miniconda3/envs/tts-tf/lib/python3.9/site-packages/tsl/utils/utils.py:40: SettingWithCopyWarning: \n",
      "A value is trying to be set on a copy of a slice from a DataFrame.\n",
      "Try using .loc[row_indexer,col_indexer] = value instead\n",
      "\n",
      "See the caveats in the documentation: https://pandas.pydata.org/pandas-docs/stable/user_guide/indexing.html#returning-a-view-versus-a-copy\n",
      "  df[col] = df[col].astype(np.float16)\n",
      "/home/yyf/miniconda3/envs/tts-tf/lib/python3.9/site-packages/tsl/utils/utils.py:40: SettingWithCopyWarning: \n",
      "A value is trying to be set on a copy of a slice from a DataFrame.\n",
      "Try using .loc[row_indexer,col_indexer] = value instead\n",
      "\n",
      "See the caveats in the documentation: https://pandas.pydata.org/pandas-docs/stable/user_guide/indexing.html#returning-a-view-versus-a-copy\n",
      "  df[col] = df[col].astype(np.float16)\n",
      "/home/yyf/miniconda3/envs/tts-tf/lib/python3.9/site-packages/tsl/utils/utils.py:40: SettingWithCopyWarning: \n",
      "A value is trying to be set on a copy of a slice from a DataFrame.\n",
      "Try using .loc[row_indexer,col_indexer] = value instead\n",
      "\n",
      "See the caveats in the documentation: https://pandas.pydata.org/pandas-docs/stable/user_guide/indexing.html#returning-a-view-versus-a-copy\n",
      "  df[col] = df[col].astype(np.float16)\n",
      "/home/yyf/miniconda3/envs/tts-tf/lib/python3.9/site-packages/tsl/utils/utils.py:40: SettingWithCopyWarning: \n",
      "A value is trying to be set on a copy of a slice from a DataFrame.\n",
      "Try using .loc[row_indexer,col_indexer] = value instead\n",
      "\n",
      "See the caveats in the documentation: https://pandas.pydata.org/pandas-docs/stable/user_guide/indexing.html#returning-a-view-versus-a-copy\n",
      "  df[col] = df[col].astype(np.float16)\n",
      "/home/yyf/miniconda3/envs/tts-tf/lib/python3.9/site-packages/tsl/utils/utils.py:40: SettingWithCopyWarning: \n",
      "A value is trying to be set on a copy of a slice from a DataFrame.\n",
      "Try using .loc[row_indexer,col_indexer] = value instead\n",
      "\n",
      "See the caveats in the documentation: https://pandas.pydata.org/pandas-docs/stable/user_guide/indexing.html#returning-a-view-versus-a-copy\n",
      "  df[col] = df[col].astype(np.float16)\n",
      "/home/yyf/miniconda3/envs/tts-tf/lib/python3.9/site-packages/tsl/utils/utils.py:40: SettingWithCopyWarning: \n",
      "A value is trying to be set on a copy of a slice from a DataFrame.\n",
      "Try using .loc[row_indexer,col_indexer] = value instead\n",
      "\n",
      "See the caveats in the documentation: https://pandas.pydata.org/pandas-docs/stable/user_guide/indexing.html#returning-a-view-versus-a-copy\n",
      "  df[col] = df[col].astype(np.float16)\n",
      "/home/yyf/miniconda3/envs/tts-tf/lib/python3.9/site-packages/tsl/utils/utils.py:40: SettingWithCopyWarning: \n",
      "A value is trying to be set on a copy of a slice from a DataFrame.\n",
      "Try using .loc[row_indexer,col_indexer] = value instead\n",
      "\n",
      "See the caveats in the documentation: https://pandas.pydata.org/pandas-docs/stable/user_guide/indexing.html#returning-a-view-versus-a-copy\n",
      "  df[col] = df[col].astype(np.float16)\n",
      "/home/yyf/miniconda3/envs/tts-tf/lib/python3.9/site-packages/tsl/utils/utils.py:40: SettingWithCopyWarning: \n",
      "A value is trying to be set on a copy of a slice from a DataFrame.\n",
      "Try using .loc[row_indexer,col_indexer] = value instead\n",
      "\n",
      "See the caveats in the documentation: https://pandas.pydata.org/pandas-docs/stable/user_guide/indexing.html#returning-a-view-versus-a-copy\n",
      "  df[col] = df[col].astype(np.float16)\n",
      "/home/yyf/miniconda3/envs/tts-tf/lib/python3.9/site-packages/tsl/utils/utils.py:40: SettingWithCopyWarning: \n",
      "A value is trying to be set on a copy of a slice from a DataFrame.\n",
      "Try using .loc[row_indexer,col_indexer] = value instead\n",
      "\n",
      "See the caveats in the documentation: https://pandas.pydata.org/pandas-docs/stable/user_guide/indexing.html#returning-a-view-versus-a-copy\n",
      "  df[col] = df[col].astype(np.float16)\n",
      "/home/yyf/miniconda3/envs/tts-tf/lib/python3.9/site-packages/tsl/utils/utils.py:40: SettingWithCopyWarning: \n",
      "A value is trying to be set on a copy of a slice from a DataFrame.\n",
      "Try using .loc[row_indexer,col_indexer] = value instead\n",
      "\n",
      "See the caveats in the documentation: https://pandas.pydata.org/pandas-docs/stable/user_guide/indexing.html#returning-a-view-versus-a-copy\n",
      "  df[col] = df[col].astype(np.float16)\n",
      "/home/yyf/miniconda3/envs/tts-tf/lib/python3.9/site-packages/tsl/utils/utils.py:40: SettingWithCopyWarning: \n",
      "A value is trying to be set on a copy of a slice from a DataFrame.\n",
      "Try using .loc[row_indexer,col_indexer] = value instead\n",
      "\n",
      "See the caveats in the documentation: https://pandas.pydata.org/pandas-docs/stable/user_guide/indexing.html#returning-a-view-versus-a-copy\n",
      "  df[col] = df[col].astype(np.float16)\n",
      "/home/yyf/miniconda3/envs/tts-tf/lib/python3.9/site-packages/tsl/utils/utils.py:40: SettingWithCopyWarning: \n",
      "A value is trying to be set on a copy of a slice from a DataFrame.\n",
      "Try using .loc[row_indexer,col_indexer] = value instead\n",
      "\n",
      "See the caveats in the documentation: https://pandas.pydata.org/pandas-docs/stable/user_guide/indexing.html#returning-a-view-versus-a-copy\n",
      "  df[col] = df[col].astype(np.float16)\n",
      "/home/yyf/miniconda3/envs/tts-tf/lib/python3.9/site-packages/tsl/utils/utils.py:40: SettingWithCopyWarning: \n",
      "A value is trying to be set on a copy of a slice from a DataFrame.\n",
      "Try using .loc[row_indexer,col_indexer] = value instead\n",
      "\n",
      "See the caveats in the documentation: https://pandas.pydata.org/pandas-docs/stable/user_guide/indexing.html#returning-a-view-versus-a-copy\n",
      "  df[col] = df[col].astype(np.float16)\n",
      "/home/yyf/miniconda3/envs/tts-tf/lib/python3.9/site-packages/tsl/utils/utils.py:40: SettingWithCopyWarning: \n",
      "A value is trying to be set on a copy of a slice from a DataFrame.\n",
      "Try using .loc[row_indexer,col_indexer] = value instead\n",
      "\n",
      "See the caveats in the documentation: https://pandas.pydata.org/pandas-docs/stable/user_guide/indexing.html#returning-a-view-versus-a-copy\n",
      "  df[col] = df[col].astype(np.float16)\n",
      "/home/yyf/miniconda3/envs/tts-tf/lib/python3.9/site-packages/tsl/utils/utils.py:40: SettingWithCopyWarning: \n",
      "A value is trying to be set on a copy of a slice from a DataFrame.\n",
      "Try using .loc[row_indexer,col_indexer] = value instead\n",
      "\n",
      "See the caveats in the documentation: https://pandas.pydata.org/pandas-docs/stable/user_guide/indexing.html#returning-a-view-versus-a-copy\n",
      "  df[col] = df[col].astype(np.float16)\n",
      "/home/yyf/miniconda3/envs/tts-tf/lib/python3.9/site-packages/tsl/utils/utils.py:40: SettingWithCopyWarning: \n",
      "A value is trying to be set on a copy of a slice from a DataFrame.\n",
      "Try using .loc[row_indexer,col_indexer] = value instead\n",
      "\n",
      "See the caveats in the documentation: https://pandas.pydata.org/pandas-docs/stable/user_guide/indexing.html#returning-a-view-versus-a-copy\n",
      "  df[col] = df[col].astype(np.float16)\n",
      "/home/yyf/miniconda3/envs/tts-tf/lib/python3.9/site-packages/tsl/utils/utils.py:40: SettingWithCopyWarning: \n",
      "A value is trying to be set on a copy of a slice from a DataFrame.\n",
      "Try using .loc[row_indexer,col_indexer] = value instead\n",
      "\n",
      "See the caveats in the documentation: https://pandas.pydata.org/pandas-docs/stable/user_guide/indexing.html#returning-a-view-versus-a-copy\n",
      "  df[col] = df[col].astype(np.float16)\n",
      "/home/yyf/miniconda3/envs/tts-tf/lib/python3.9/site-packages/tsl/utils/utils.py:40: SettingWithCopyWarning: \n",
      "A value is trying to be set on a copy of a slice from a DataFrame.\n",
      "Try using .loc[row_indexer,col_indexer] = value instead\n",
      "\n",
      "See the caveats in the documentation: https://pandas.pydata.org/pandas-docs/stable/user_guide/indexing.html#returning-a-view-versus-a-copy\n",
      "  df[col] = df[col].astype(np.float16)\n",
      "/home/yyf/miniconda3/envs/tts-tf/lib/python3.9/site-packages/tsl/utils/utils.py:40: SettingWithCopyWarning: \n",
      "A value is trying to be set on a copy of a slice from a DataFrame.\n",
      "Try using .loc[row_indexer,col_indexer] = value instead\n",
      "\n",
      "See the caveats in the documentation: https://pandas.pydata.org/pandas-docs/stable/user_guide/indexing.html#returning-a-view-versus-a-copy\n",
      "  df[col] = df[col].astype(np.float16)\n",
      "/home/yyf/miniconda3/envs/tts-tf/lib/python3.9/site-packages/tsl/utils/utils.py:40: SettingWithCopyWarning: \n",
      "A value is trying to be set on a copy of a slice from a DataFrame.\n",
      "Try using .loc[row_indexer,col_indexer] = value instead\n",
      "\n",
      "See the caveats in the documentation: https://pandas.pydata.org/pandas-docs/stable/user_guide/indexing.html#returning-a-view-versus-a-copy\n",
      "  df[col] = df[col].astype(np.float16)\n",
      "/home/yyf/miniconda3/envs/tts-tf/lib/python3.9/site-packages/tsl/utils/utils.py:40: SettingWithCopyWarning: \n",
      "A value is trying to be set on a copy of a slice from a DataFrame.\n",
      "Try using .loc[row_indexer,col_indexer] = value instead\n",
      "\n",
      "See the caveats in the documentation: https://pandas.pydata.org/pandas-docs/stable/user_guide/indexing.html#returning-a-view-versus-a-copy\n",
      "  df[col] = df[col].astype(np.float16)\n",
      "/home/yyf/miniconda3/envs/tts-tf/lib/python3.9/site-packages/tsl/utils/utils.py:40: SettingWithCopyWarning: \n",
      "A value is trying to be set on a copy of a slice from a DataFrame.\n",
      "Try using .loc[row_indexer,col_indexer] = value instead\n",
      "\n",
      "See the caveats in the documentation: https://pandas.pydata.org/pandas-docs/stable/user_guide/indexing.html#returning-a-view-versus-a-copy\n",
      "  df[col] = df[col].astype(np.float16)\n",
      "/home/yyf/miniconda3/envs/tts-tf/lib/python3.9/site-packages/tsl/utils/utils.py:40: SettingWithCopyWarning: \n",
      "A value is trying to be set on a copy of a slice from a DataFrame.\n",
      "Try using .loc[row_indexer,col_indexer] = value instead\n",
      "\n",
      "See the caveats in the documentation: https://pandas.pydata.org/pandas-docs/stable/user_guide/indexing.html#returning-a-view-versus-a-copy\n",
      "  df[col] = df[col].astype(np.float16)\n"
     ]
    }
   ],
   "source": [
    "dump(num_global, 'global_num', dump_dir)"
   ]
  },
  {
   "cell_type": "markdown",
   "metadata": {},
   "source": [
    "## Time Features\n",
    "\n",
    "We will not generate time features for now as the data loader will do this based on given date time index."
   ]
  },
  {
   "cell_type": "markdown",
   "metadata": {},
   "source": [
    "## Local Features\n",
    "\n",
    "Local features should be generated for each location.\n"
   ]
  }
 ],
 "metadata": {
  "kernelspec": {
   "display_name": "tts-tf",
   "language": "python",
   "name": "python3"
  },
  "language_info": {
   "codemirror_mode": {
    "name": "ipython",
    "version": 3
   },
   "file_extension": ".py",
   "mimetype": "text/x-python",
   "name": "python",
   "nbconvert_exporter": "python",
   "pygments_lexer": "ipython3",
   "version": "3.9.0"
  },
  "orig_nbformat": 4
 },
 "nbformat": 4,
 "nbformat_minor": 2
}
